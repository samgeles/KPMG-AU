{
 "cells": [
  {
   "cell_type": "code",
   "execution_count": 3,
   "metadata": {
    "collapsed": true,
    "ExecuteTime": {
     "end_time": "2023-11-03T19:42:03.927598500Z",
     "start_time": "2023-11-03T19:42:03.910569100Z"
    }
   },
   "outputs": [],
   "source": [
    "# importing libraries\n",
    "\n",
    "import pandas as pd\n",
    "import numpy as np\n",
    "import seaborn as sns\n",
    "import regex as re\n"
   ]
  },
  {
   "cell_type": "markdown",
   "source": [],
   "metadata": {
    "collapsed": false
   }
  },
  {
   "cell_type": "code",
   "execution_count": 4,
   "outputs": [],
   "source": [
    "# reading into the sheets in main excel file\n",
    "\n",
    "transactions = pd.read_excel('KPMG_Datasets.xlsx', sheet_name=0)\n",
    "new_customer_list = pd.read_excel('KPMG_Datasets.xlsx', sheet_name=1)\n",
    "customer_demographic = pd.read_excel('KPMG_Datasets.xlsx', sheet_name=2)\n",
    "customer_address = pd.read_excel('KPMG_Datasets.xlsx', sheet_name=3)"
   ],
   "metadata": {
    "collapsed": false,
    "ExecuteTime": {
     "end_time": "2023-11-03T19:42:16.851884900Z",
     "start_time": "2023-11-03T19:42:12.844602600Z"
    }
   }
  },
  {
   "cell_type": "markdown",
   "source": [
    "Data Validation\n",
    "    - check for:\n",
    "        1. consistency: numerical (are there any outliers) object ( M\n",
    "        and F, f and m, or Male and Female)\n",
    "\n",
    "        2. accuracy: if the data in the col is the correct type\n",
    "\n",
    "        3. completeness: are there null values\n",
    "\n",
    "        4. relevancy: if the data collected matches what the col is and what the dataset is about\n"
   ],
   "metadata": {
    "collapsed": false
   }
  },
  {
   "cell_type": "markdown",
   "source": [
    "____________ Transactions Dataset ____________"
   ],
   "metadata": {
    "collapsed": false
   }
  },
  {
   "cell_type": "code",
   "execution_count": 4,
   "outputs": [
    {
     "name": "stdout",
     "output_type": "stream",
     "text": [
      "   transaction_id  product_id  customer_id transaction_date  online_order  \\\n",
      "0               1           2         2950       2017-02-25           0.0   \n",
      "1               2           3         3120       2017-05-21           1.0   \n",
      "2               3          37          402       2017-10-16           0.0   \n",
      "3               4          88         3135       2017-08-31           0.0   \n",
      "4               5          78          787       2017-10-01           1.0   \n",
      "\n",
      "  order_status           brand product_line product_class product_size  \\\n",
      "0     Approved           Solex     Standard        medium       medium   \n",
      "1     Approved   Trek Bicycles     Standard        medium        large   \n",
      "2     Approved      OHM Cycles     Standard           low       medium   \n",
      "3     Approved  Norco Bicycles     Standard        medium       medium   \n",
      "4     Approved  Giant Bicycles     Standard        medium        large   \n",
      "\n",
      "   list_price  standard_cost  product_first_sold_date  \n",
      "0       71.49          53.62                  41245.0  \n",
      "1     2091.47         388.92                  41701.0  \n",
      "2     1793.43         248.82                  36361.0  \n",
      "3     1198.46         381.10                  36145.0  \n",
      "4     1765.30         709.48                  42226.0   \n",
      "\n",
      "\n",
      "<class 'pandas.core.frame.DataFrame'>\n",
      "RangeIndex: 20000 entries, 0 to 19999\n",
      "Data columns (total 13 columns):\n",
      " #   Column                   Non-Null Count  Dtype         \n",
      "---  ------                   --------------  -----         \n",
      " 0   transaction_id           20000 non-null  int64         \n",
      " 1   product_id               20000 non-null  int64         \n",
      " 2   customer_id              20000 non-null  int64         \n",
      " 3   transaction_date         20000 non-null  datetime64[ns]\n",
      " 4   online_order             19640 non-null  float64       \n",
      " 5   order_status             20000 non-null  object        \n",
      " 6   brand                    19803 non-null  object        \n",
      " 7   product_line             19803 non-null  object        \n",
      " 8   product_class            19803 non-null  object        \n",
      " 9   product_size             19803 non-null  object        \n",
      " 10  list_price               20000 non-null  float64       \n",
      " 11  standard_cost            19803 non-null  float64       \n",
      " 12  product_first_sold_date  19803 non-null  float64       \n",
      "dtypes: datetime64[ns](1), float64(4), int64(3), object(5)\n",
      "memory usage: 2.0+ MB\n",
      "None \n",
      "\n",
      "\n",
      "transaction_id               0\n",
      "product_id                   0\n",
      "customer_id                  0\n",
      "transaction_date             0\n",
      "online_order               360\n",
      "order_status                 0\n",
      "brand                      197\n",
      "product_line               197\n",
      "product_class              197\n",
      "product_size               197\n",
      "list_price                   0\n",
      "standard_cost              197\n",
      "product_first_sold_date    197\n",
      "dtype: int64\n"
     ]
    }
   ],
   "source": [
    "# Preliminary data validation\n",
    "print(transactions.head(), '\\n\\n')\n",
    "print(transactions.info(), '\\n\\n')\n",
    "print(transactions.isnull().sum())\n"
   ],
   "metadata": {
    "collapsed": false,
    "ExecuteTime": {
     "end_time": "2023-09-29T00:12:43.644556400Z",
     "start_time": "2023-09-29T00:12:43.619942200Z"
    }
   }
  },
  {
   "cell_type": "code",
   "execution_count": 44,
   "outputs": [
    {
     "name": "stdout",
     "output_type": "stream",
     "text": [
      "       transaction_id   product_id   customer_id            transaction_date  \\\n",
      "count    20000.000000  20000.00000  20000.000000                       20000   \n",
      "mean     10000.500000     45.36465   1738.246050  2017-07-01 14:08:05.280000   \n",
      "min          1.000000      0.00000      1.000000         2017-01-01 00:00:00   \n",
      "25%       5000.750000     18.00000    857.750000         2017-04-01 00:00:00   \n",
      "50%      10000.500000     44.00000   1736.000000         2017-07-03 00:00:00   \n",
      "75%      15000.250000     72.00000   2613.000000         2017-10-02 00:00:00   \n",
      "max      20000.000000    100.00000   5034.000000         2017-12-30 00:00:00   \n",
      "std       5773.647028     30.75359   1011.951046                         NaN   \n",
      "\n",
      "       online_order    list_price  standard_cost  product_first_sold_date  \n",
      "count  19640.000000  20000.000000   19803.000000             19803.000000  \n",
      "mean       0.500458   1107.829449     556.046951             38199.776549  \n",
      "min        0.000000     12.010000       7.210000             33259.000000  \n",
      "25%        0.000000    575.270000     215.140000             35667.000000  \n",
      "50%        1.000000   1163.890000     507.580000             38216.000000  \n",
      "75%        1.000000   1635.300000     795.100000             40672.000000  \n",
      "max        1.000000   2091.470000    1759.850000             42710.000000  \n",
      "std        0.500013    582.825242     405.955660              2875.201110  \n"
     ]
    }
   ],
   "source": [
    "print(transactions.describe())"
   ],
   "metadata": {
    "collapsed": false,
    "ExecuteTime": {
     "end_time": "2023-10-06T16:55:44.143446800Z",
     "start_time": "2023-10-06T16:55:43.919862900Z"
    }
   }
  },
  {
   "cell_type": "code",
   "execution_count": 5,
   "outputs": [
    {
     "name": "stdout",
     "output_type": "stream",
     "text": [
      "order_status\n",
      "Approved     19821\n",
      "Cancelled      179\n",
      "Name: count, dtype: int64 \n",
      "\n",
      "brand\n",
      "Solex             4253\n",
      "Giant Bicycles    3312\n",
      "WeareA2B          3295\n",
      "OHM Cycles        3043\n",
      "Trek Bicycles     2990\n",
      "Norco Bicycles    2910\n",
      "Name: count, dtype: int64 \n",
      "\n",
      "product_line\n",
      "Standard    14176\n",
      "Road         3970\n",
      "Touring      1234\n",
      "Mountain      423\n",
      "Name: count, dtype: int64 \n",
      "\n",
      "product_class\n",
      "medium    13826\n",
      "high       3013\n",
      "low        2964\n",
      "Name: count, dtype: int64 \n",
      "\n",
      "product_size\n",
      "medium    12990\n",
      "large      3976\n",
      "small      2837\n",
      "Name: count, dtype: int64 \n",
      "\n"
     ]
    }
   ],
   "source": [
    "# Consistency: among object columns\n",
    "\n",
    "object_cols = ['order_status', 'brand', 'product_line', 'product_class', 'product_size']\n",
    "\n",
    "    # do not directly use value_counts on a df - will overload system\n",
    "\n",
    "for column in object_cols:\n",
    "    print(transactions[column].value_counts(), '\\n')\n",
    "\n",
    "    # observe all of these columns are clean in terms of consistency\n",
    "        # uniform strings in all of these columns"
   ],
   "metadata": {
    "collapsed": false,
    "ExecuteTime": {
     "end_time": "2023-09-29T00:12:48.947727500Z",
     "start_time": "2023-09-29T00:12:48.932790100Z"
    }
   }
  },
  {
   "cell_type": "code",
   "execution_count": 6,
   "outputs": [
    {
     "name": "stdout",
     "output_type": "stream",
     "text": [
      "       transaction_id   product_id   customer_id            transaction_date  \\\n",
      "count    20000.000000  20000.00000  20000.000000                       20000   \n",
      "mean     10000.500000     45.36465   1738.246050  2017-07-01 14:08:05.280000   \n",
      "min          1.000000      0.00000      1.000000         2017-01-01 00:00:00   \n",
      "25%       5000.750000     18.00000    857.750000         2017-04-01 00:00:00   \n",
      "50%      10000.500000     44.00000   1736.000000         2017-07-03 00:00:00   \n",
      "75%      15000.250000     72.00000   2613.000000         2017-10-02 00:00:00   \n",
      "max      20000.000000    100.00000   5034.000000         2017-12-30 00:00:00   \n",
      "std       5773.647028     30.75359   1011.951046                         NaN   \n",
      "\n",
      "       online_order    list_price  standard_cost  product_first_sold_date  \n",
      "count  19640.000000  20000.000000   19803.000000             19803.000000  \n",
      "mean       0.500458   1107.829449     556.046951             38199.776549  \n",
      "min        0.000000     12.010000       7.210000             33259.000000  \n",
      "25%        0.000000    575.270000     215.140000             35667.000000  \n",
      "50%        1.000000   1163.890000     507.580000             38216.000000  \n",
      "75%        1.000000   1635.300000     795.100000             40672.000000  \n",
      "max        1.000000   2091.470000    1759.850000             42710.000000  \n",
      "std        0.500013    582.825242     405.955660              2875.201110  \n"
     ]
    }
   ],
   "source": [
    "# Consistency: among numerical columns\n",
    "\n",
    "print(transactions.describe())\n",
    "\n",
    "    # check for outliers\n",
    "        # no negative values for price col"
   ],
   "metadata": {
    "collapsed": false,
    "ExecuteTime": {
     "end_time": "2023-09-29T00:12:50.795466900Z",
     "start_time": "2023-09-29T00:12:50.769221700Z"
    }
   }
  },
  {
   "cell_type": "markdown",
   "source": [
    "Data Quality Report: Transactions\n",
    "\n",
    "    1. Consistency\n",
    "    2. Accuracy\n",
    "    3. Completeness\n",
    "    4. Relevancy\n",
    "\n",
    "    1.1) Consistency: among numerical columns\n",
    "        - data is consistent among numerical cols\n",
    "            - no negative values in list_price col\n",
    "\n",
    "    1.2) Consistency: among object columns\n",
    "        - data is consistent among object cols\n",
    "            - uniform strings in all of these columns\n",
    "\n",
    "    2) Accuracy:\n",
    "        - data types are accurate in all columns except for product_first_sold-date example) 42105\n",
    "\n",
    "    3) Completeness:\n",
    "        - online_order has 360 null values\n",
    "        - brand has 197 null values\n",
    "        - product_line 197 null values\n",
    "        - product_class has 197 null values\n",
    "        - product_size 197 null values\n",
    "        - standard_cost 197 null values\n",
    "        - product_first_sold_date 197 null values\n",
    "\n",
    "            - not a coincidence that there are 197 null values for 6 columns\n",
    "                - maybe 1 or multiple brands missing product data\n",
    "\n",
    "    4) Relevancy:\n",
    "        - observed that data in all cols are relevant to column name and sheet title\n",
    "\n",
    "\n"
   ],
   "metadata": {
    "collapsed": false
   }
  },
  {
   "cell_type": "markdown",
   "source": [
    "__________ new_customer_list Dataset __________"
   ],
   "metadata": {
    "collapsed": false
   }
  },
  {
   "cell_type": "markdown",
   "source": [
    "* use old customer list 'CustomerDemographic' to perform EDA\n",
    "*"
   ],
   "metadata": {
    "collapsed": false
   }
  },
  {
   "cell_type": "code",
   "execution_count": 7,
   "outputs": [
    {
     "name": "stdout",
     "output_type": "stream",
     "text": [
      "  first_name  last_name  gender  past_3_years_bike_related_purchases  \\\n",
      "0    Chickie    Brister    Male                                   86   \n",
      "1      Morly     Genery    Male                                   69   \n",
      "2    Ardelis  Forrester  Female                                   10   \n",
      "3     Lucine      Stutt  Female                                   64   \n",
      "4    Melinda     Hadlee  Female                                   34   \n",
      "\n",
      "                   DOB                   job_title job_industry_category  \\\n",
      "0           1957-07-12             General Manager         Manufacturing   \n",
      "1           1970-03-22         Structural Engineer              Property   \n",
      "2  1974-08-28 00:00:00      Senior Cost Accountant    Financial Services   \n",
      "3           1979-01-28  Account Representative III         Manufacturing   \n",
      "4           1965-09-21           Financial Analyst    Financial Services   \n",
      "\n",
      "      wealth_segment deceased_indicator owns_car  ...  state    country  \\\n",
      "0      Mass Customer                  N      Yes  ...    QLD  Australia   \n",
      "1      Mass Customer                  N       No  ...    NSW  Australia   \n",
      "2  Affluent Customer                  N       No  ...    VIC  Australia   \n",
      "3  Affluent Customer                  N      Yes  ...    QLD  Australia   \n",
      "4  Affluent Customer                  N       No  ...    NSW  Australia   \n",
      "\n",
      "   property_valuation Unnamed: 16 Unnamed: 17  Unnamed: 18  Unnamed: 19  \\\n",
      "0                   6        0.78      0.9750      1.21875     1.035937   \n",
      "1                  11        1.05      1.0500      1.31250     1.115625   \n",
      "2                   5        1.09      1.0900      1.09000     1.090000   \n",
      "3                   1        0.69      0.8625      0.86250     0.862500   \n",
      "4                   9        0.88      0.8800      1.10000     1.100000   \n",
      "\n",
      "   Unnamed: 20  Rank     Value  \n",
      "0            1     1  1.718750  \n",
      "1            1     1  1.718750  \n",
      "2            1     1  1.718750  \n",
      "3            4     4  1.703125  \n",
      "4            4     4  1.703125  \n",
      "\n",
      "[5 rows x 23 columns] \n",
      "\n",
      "\n"
     ]
    }
   ],
   "source": [
    "# Preliminary Data Validation\n",
    "print(new_customer_list.head(), '\\n\\n')\n"
   ],
   "metadata": {
    "collapsed": false,
    "ExecuteTime": {
     "end_time": "2023-09-29T00:12:54.841451100Z",
     "start_time": "2023-09-29T00:12:54.833444Z"
    }
   }
  },
  {
   "cell_type": "code",
   "execution_count": 8,
   "outputs": [
    {
     "name": "stdout",
     "output_type": "stream",
     "text": [
      "<class 'pandas.core.frame.DataFrame'>\n",
      "RangeIndex: 1000 entries, 0 to 999\n",
      "Data columns (total 23 columns):\n",
      " #   Column                               Non-Null Count  Dtype  \n",
      "---  ------                               --------------  -----  \n",
      " 0   first_name                           1000 non-null   object \n",
      " 1   last_name                            971 non-null    object \n",
      " 2   gender                               1000 non-null   object \n",
      " 3   past_3_years_bike_related_purchases  1000 non-null   int64  \n",
      " 4   DOB                                  983 non-null    object \n",
      " 5   job_title                            894 non-null    object \n",
      " 6   job_industry_category                835 non-null    object \n",
      " 7   wealth_segment                       1000 non-null   object \n",
      " 8   deceased_indicator                   1000 non-null   object \n",
      " 9   owns_car                             1000 non-null   object \n",
      " 10  tenure                               1000 non-null   int64  \n",
      " 11  address                              1000 non-null   object \n",
      " 12  postcode                             1000 non-null   int64  \n",
      " 13  state                                1000 non-null   object \n",
      " 14  country                              1000 non-null   object \n",
      " 15  property_valuation                   1000 non-null   int64  \n",
      " 16  Unnamed: 16                          1000 non-null   float64\n",
      " 17  Unnamed: 17                          1000 non-null   float64\n",
      " 18  Unnamed: 18                          1000 non-null   float64\n",
      " 19  Unnamed: 19                          1000 non-null   float64\n",
      " 20  Unnamed: 20                          1000 non-null   int64  \n",
      " 21  Rank                                 1000 non-null   int64  \n",
      " 22  Value                                1000 non-null   float64\n",
      "dtypes: float64(5), int64(6), object(12)\n",
      "memory usage: 179.8+ KB\n",
      "None \n",
      "\n",
      "\n",
      "first_name                               0\n",
      "last_name                               29\n",
      "gender                                   0\n",
      "past_3_years_bike_related_purchases      0\n",
      "DOB                                     17\n",
      "job_title                              106\n",
      "job_industry_category                  165\n",
      "wealth_segment                           0\n",
      "deceased_indicator                       0\n",
      "owns_car                                 0\n",
      "tenure                                   0\n",
      "address                                  0\n",
      "postcode                                 0\n",
      "state                                    0\n",
      "country                                  0\n",
      "property_valuation                       0\n",
      "Unnamed: 16                              0\n",
      "Unnamed: 17                              0\n",
      "Unnamed: 18                              0\n",
      "Unnamed: 19                              0\n",
      "Unnamed: 20                              0\n",
      "Rank                                     0\n",
      "Value                                    0\n",
      "dtype: int64\n"
     ]
    }
   ],
   "source": [
    "# Completeness\n",
    "\n",
    "print(new_customer_list.info(), '\\n\\n')\n",
    "\n",
    "print(new_customer_list.isnull().sum())\n",
    "\n",
    "    # last_name: 29 nulls\n",
    "    # DOB: 17 nulls\n",
    "    # job_title: 106 nulls\n",
    "    # job_industry_category: 165 nulls"
   ],
   "metadata": {
    "collapsed": false,
    "ExecuteTime": {
     "end_time": "2023-09-29T00:12:56.799082100Z",
     "start_time": "2023-09-29T00:12:56.786425200Z"
    }
   }
  },
  {
   "cell_type": "code",
   "execution_count": 19,
   "outputs": [
    {
     "name": "stdout",
     "output_type": "stream",
     "text": [
      "first_name\n",
      "Rozamond     3\n",
      "Dorian       3\n",
      "Mandie       3\n",
      "Inglebert    2\n",
      "Ricki        2\n",
      "            ..\n",
      "Diego        1\n",
      "Lucilia      1\n",
      "Eddy         1\n",
      "Caron        1\n",
      "Sylas        1\n",
      "Name: count, Length: 940, dtype: int64 \n",
      "\n",
      "\n",
      "last_name\n",
      "Sissel       2\n",
      "Minshall     2\n",
      "Borsi        2\n",
      "Shoesmith    2\n",
      "Sturch       2\n",
      "            ..\n",
      "O'Moylane    1\n",
      "Axtens       1\n",
      "Moxted       1\n",
      "Conrad       1\n",
      "Duffill      1\n",
      "Name: count, Length: 961, dtype: int64 \n",
      "\n",
      "\n",
      "gender\n",
      "Female    513\n",
      "Male      470\n",
      "U          17\n",
      "Name: count, dtype: int64 \n",
      "\n",
      "\n",
      "DOB\n",
      "1965-07-03    2\n",
      "1978-01-15    2\n",
      "1979-07-28    2\n",
      "1995-08-13    2\n",
      "1941-07-21    2\n",
      "             ..\n",
      "1978-05-27    1\n",
      "1945-08-08    1\n",
      "1943-08-27    1\n",
      "1999-10-24    1\n",
      "1955-10-02    1\n",
      "Name: count, Length: 961, dtype: int64 \n",
      "\n",
      "\n",
      "job_title\n",
      "Associate Professor         15\n",
      "Environmental Tech          14\n",
      "Software Consultant         14\n",
      "Chief Design Engineer       13\n",
      "Assistant Manager           12\n",
      "                            ..\n",
      "Accountant II                1\n",
      "Programmer IV                1\n",
      "Administrative Officer       1\n",
      "Accounting Assistant III     1\n",
      "Web Developer I              1\n",
      "Name: count, Length: 184, dtype: int64 \n",
      "\n",
      "\n",
      "job_industry_category\n",
      "Financial Services    203\n",
      "Manufacturing         199\n",
      "Health                152\n",
      "Retail                 78\n",
      "Property               64\n",
      "IT                     51\n",
      "Entertainment          37\n",
      "Argiculture            26\n",
      "Telecommunications     25\n",
      "Name: count, dtype: int64 \n",
      "\n",
      "\n",
      "wealth_segment\n",
      "Mass Customer        508\n",
      "High Net Worth       251\n",
      "Affluent Customer    241\n",
      "Name: count, dtype: int64 \n",
      "\n",
      "\n",
      "deceased_indicator\n",
      "N    1000\n",
      "Name: count, dtype: int64 \n",
      "\n",
      "\n",
      "owns_car\n",
      "No     507\n",
      "Yes    493\n",
      "Name: count, dtype: int64 \n",
      "\n",
      "\n",
      "address\n",
      "45 Shopko Center             1\n",
      "77608 Donald Center          1\n",
      "7 Elgar Hill                 1\n",
      "36506 Bartillon Point        1\n",
      "8 Scott Drive                1\n",
      "                            ..\n",
      "102 Charing Cross Terrace    1\n",
      "5 Trailsway Avenue           1\n",
      "23694 Leroy Place            1\n",
      "53 Memorial Street           1\n",
      "21875 Grover Drive           1\n",
      "Name: count, Length: 1000, dtype: int64 \n",
      "\n",
      "\n",
      "state\n",
      "NSW    506\n",
      "VIC    266\n",
      "QLD    228\n",
      "Name: count, dtype: int64 \n",
      "\n",
      "\n",
      "country\n",
      "Australia    1000\n",
      "Name: count, dtype: int64 \n",
      "\n",
      "\n"
     ]
    }
   ],
   "source": [
    "# Consistency: among object cols\n",
    "\n",
    "objects1 = ['first_name', 'last_name', 'gender', 'DOB', 'job_title', 'job_industry_category', 'wealth_segment', 'deceased_indicator', 'owns_car', 'address', 'state', 'country']\n",
    "\n",
    "for column in objects1:\n",
    "    print(new_customer_list[column].value_counts(), '\\n\\n')\n",
    "\n",
    "    # at a glance object col values look clean\n",
    "\n"
   ],
   "metadata": {
    "collapsed": false,
    "ExecuteTime": {
     "end_time": "2023-09-23T00:25:17.811782400Z",
     "start_time": "2023-09-23T00:25:17.785997Z"
    }
   }
  },
  {
   "cell_type": "code",
   "execution_count": 9,
   "outputs": [
    {
     "name": "stdout",
     "output_type": "stream",
     "text": [
      "past_3_years_bike_related_purchases\n",
      "60    20\n",
      "59    18\n",
      "42    17\n",
      "70    17\n",
      "11    16\n",
      "      ..\n",
      "19     5\n",
      "9      5\n",
      "92     5\n",
      "85     4\n",
      "20     3\n",
      "Name: count, Length: 100, dtype: int64 \n",
      "\n",
      "\n",
      "tenure\n",
      "9     79\n",
      "13    74\n",
      "11    68\n",
      "10    63\n",
      "12    61\n",
      "5     60\n",
      "7     60\n",
      "17    59\n",
      "15    58\n",
      "8     55\n",
      "14    54\n",
      "16    49\n",
      "6     45\n",
      "4     36\n",
      "18    36\n",
      "19    34\n",
      "3     26\n",
      "21    24\n",
      "20    22\n",
      "2     15\n",
      "22    12\n",
      "1      8\n",
      "0      2\n",
      "Name: count, dtype: int64 \n",
      "\n",
      "\n",
      "postcode\n",
      "2145    9\n",
      "2232    9\n",
      "2750    7\n",
      "3977    7\n",
      "2148    7\n",
      "       ..\n",
      "2576    1\n",
      "2479    1\n",
      "3065    1\n",
      "2762    1\n",
      "4215    1\n",
      "Name: count, Length: 522, dtype: int64 \n",
      "\n",
      "\n",
      "property_valuation\n",
      "9     173\n",
      "8     162\n",
      "7     138\n",
      "10    116\n",
      "6      70\n",
      "11     62\n",
      "5      57\n",
      "4      53\n",
      "3      51\n",
      "12     46\n",
      "2      42\n",
      "1      30\n",
      "Name: count, dtype: int64 \n",
      "\n",
      "\n",
      "Rank\n",
      "760     13\n",
      "259     12\n",
      "455      9\n",
      "133      9\n",
      "386      9\n",
      "        ..\n",
      "240      1\n",
      "248      1\n",
      "657      1\n",
      "249      1\n",
      "1000     1\n",
      "Name: count, Length: 324, dtype: int64 \n",
      "\n",
      "\n",
      "Value\n",
      "0.637500    13\n",
      "1.062500    12\n",
      "0.892500     9\n",
      "1.237500     9\n",
      "0.945625     9\n",
      "            ..\n",
      "1.090000     1\n",
      "1.078125     1\n",
      "0.714000     1\n",
      "1.075781     1\n",
      "0.340000     1\n",
      "Name: count, Length: 324, dtype: int64 \n",
      "\n",
      "\n"
     ]
    }
   ],
   "source": [
    "# Consistency: among numerical cols\n",
    "\n",
    "numeric_cols = ['past_3_years_bike_related_purchases', 'tenure', 'postcode', 'property_valuation', 'Rank', 'Value']\n",
    "\n",
    "for column in numeric_cols:\n",
    "    print(new_customer_list[column].value_counts(), '\\n\\n')\n",
    "\n",
    "    # at a glance numerical cols look clean"
   ],
   "metadata": {
    "collapsed": false,
    "ExecuteTime": {
     "end_time": "2023-09-29T00:13:00.339378700Z",
     "start_time": "2023-09-29T00:13:00.324105800Z"
    }
   }
  },
  {
   "cell_type": "code",
   "execution_count": 31,
   "outputs": [],
   "source": [
    "new_customer_list['DOB'] = pd.to_datetime(new_customer_list['DOB'], errors='coerce')"
   ],
   "metadata": {
    "collapsed": false,
    "ExecuteTime": {
     "end_time": "2023-09-30T04:41:25.696464800Z",
     "start_time": "2023-09-30T04:41:25.657254Z"
    }
   }
  },
  {
   "cell_type": "code",
   "execution_count": 32,
   "outputs": [],
   "source": [
    "invalid_dates = new_customer_list['DOB'][new_customer_list['DOB'].isna()]"
   ],
   "metadata": {
    "collapsed": false,
    "ExecuteTime": {
     "end_time": "2023-09-30T04:41:46.436501600Z",
     "start_time": "2023-09-30T04:41:46.397911300Z"
    }
   }
  },
  {
   "cell_type": "code",
   "execution_count": 34,
   "outputs": [
    {
     "name": "stdout",
     "output_type": "stream",
     "text": [
      "<class 'pandas._libs.tslibs.timestamps.Timestamp'>\n"
     ]
    }
   ],
   "source": [
    "print(type(new_customer_list['DOB'][0]))\n",
    "\n",
    "    # converted values in DOB col to timestamp"
   ],
   "metadata": {
    "collapsed": false,
    "ExecuteTime": {
     "end_time": "2023-09-30T04:42:47.893256900Z",
     "start_time": "2023-09-30T04:42:47.839237100Z"
    }
   }
  },
  {
   "cell_type": "code",
   "execution_count": 38,
   "outputs": [],
   "source": [
    "out_of_range_dates = new_customer_list[(new_customer_list['DOB'] < min_date) | (new_customer_list['DOB'] > max_date)]\n",
    "\n",
    "    # grouping all out of range dates"
   ],
   "metadata": {
    "collapsed": false,
    "ExecuteTime": {
     "end_time": "2023-09-30T04:51:08.342426700Z",
     "start_time": "2023-09-30T04:51:08.267798300Z"
    }
   }
  },
  {
   "cell_type": "code",
   "execution_count": 42,
   "outputs": [
    {
     "name": "stdout",
     "output_type": "stream",
     "text": [
      "Invalid Dates:\n",
      "17\n",
      "\n",
      "Dates Out of Expected Range:\n",
      "Empty DataFrame\n",
      "Columns: [first_name, last_name, gender, past_3_years_bike_related_purchases, DOB, job_title, job_industry_category, wealth_segment, deceased_indicator, owns_car, tenure, address, postcode, state, country, property_valuation, Unnamed: 16, Unnamed: 17, Unnamed: 18, Unnamed: 19, Unnamed: 20, Rank, Value]\n",
      "Index: []\n",
      "\n",
      "[0 rows x 23 columns]\n"
     ]
    }
   ],
   "source": [
    "# Print the results\n",
    "print(\"Invalid Dates:\")\n",
    "print(len(invalid_dates))\n",
    "\n",
    "    # 17 invalid dates but remember that there are 17 nulls in this col"
   ],
   "metadata": {
    "collapsed": false,
    "ExecuteTime": {
     "end_time": "2023-09-30T04:54:58.941141Z",
     "start_time": "2023-09-30T04:54:58.891364600Z"
    }
   }
  },
  {
   "cell_type": "markdown",
   "source": [
    "Data Quality Report: New_Customer_List\n",
    "\n",
    "    1. Consistency\n",
    "    2. Accuracy\n",
    "    3. Completeness\n",
    "    4. Relevancy\n",
    "\n",
    "    1.1) Consistency: among numerical columns\n",
    "        - data is consistent among numerical cols\n",
    "\n",
    "    1.2) Consistency: among object columns\n",
    "        - data is consistent among object cols\n",
    "            - relatively uniform strings in all of these columns\n",
    "\n",
    "    2) Accuracy:\n",
    "        - DOB col is in object type when it should be datetime\n",
    "\n",
    "    3) Completeness:\n",
    "        - last_name: 29 nulls\n",
    "        - DOB: 17 nulls\n",
    "        - job_title: 106 nulls\n",
    "        - job_industry_category: 165 nulls\n",
    "\n",
    "    4) Relevancy:\n",
    "        - column index 16 - 20 are titled 'Unnamed'\n",
    "        - meaning of Rank and Value columns are unclear; no metadata provided\n"
   ],
   "metadata": {
    "collapsed": false
   }
  },
  {
   "cell_type": "markdown",
   "source": [],
   "metadata": {
    "collapsed": false
   }
  },
  {
   "cell_type": "code",
   "execution_count": null,
   "outputs": [],
   "source": [
    "_______ customer_demographic dataset ________"
   ],
   "metadata": {
    "collapsed": false
   }
  },
  {
   "cell_type": "code",
   "execution_count": 10,
   "outputs": [
    {
     "name": "stdout",
     "output_type": "stream",
     "text": [
      "   customer_id      first_name  last_name  gender  \\\n",
      "0            1         Laraine  Medendorp       F   \n",
      "1            2             Eli    Bockman    Male   \n",
      "2            3           Arlin     Dearle    Male   \n",
      "3            4          Talbot        NaN    Male   \n",
      "4            5  Sheila-kathryn     Calton  Female   \n",
      "\n",
      "   past_3_years_bike_related_purchases                  DOB  \\\n",
      "0                                   93  1953-10-12 00:00:00   \n",
      "1                                   81  1980-12-16 00:00:00   \n",
      "2                                   61  1954-01-20 00:00:00   \n",
      "3                                   33  1961-10-03 00:00:00   \n",
      "4                                   56  1977-05-13 00:00:00   \n",
      "\n",
      "                job_title job_industry_category     wealth_segment  \\\n",
      "0     Executive Secretary                Health      Mass Customer   \n",
      "1  Administrative Officer    Financial Services      Mass Customer   \n",
      "2      Recruiting Manager              Property      Mass Customer   \n",
      "3                     NaN                    IT      Mass Customer   \n",
      "4           Senior Editor                   NaN  Affluent Customer   \n",
      "\n",
      "  deceased_indicator                                            default  \\\n",
      "0                  N                                                 \"'   \n",
      "1                  N                       <script>alert('hi')</script>   \n",
      "2                  N                                2018-02-01 00:00:00   \n",
      "3                  N  () { _; } >_[$($())] { touch /tmp/blns.shellsh...   \n",
      "4                  N                                                NIL   \n",
      "\n",
      "  owns_car  tenure  \n",
      "0      Yes    11.0  \n",
      "1      Yes    16.0  \n",
      "2      Yes    15.0  \n",
      "3       No     7.0  \n",
      "4      Yes     8.0  \n"
     ]
    }
   ],
   "source": [
    "# preliminary data validation\n",
    "print(customer_demographic.head())"
   ],
   "metadata": {
    "collapsed": false,
    "ExecuteTime": {
     "end_time": "2023-09-29T00:13:03.644577800Z",
     "start_time": "2023-09-29T00:13:03.637057Z"
    }
   }
  },
  {
   "cell_type": "code",
   "execution_count": 12,
   "outputs": [
    {
     "name": "stdout",
     "output_type": "stream",
     "text": [
      "customer_id                              0\n",
      "first_name                               0\n",
      "last_name                              125\n",
      "gender                                   0\n",
      "past_3_years_bike_related_purchases      0\n",
      "DOB                                     87\n",
      "job_title                              506\n",
      "job_industry_category                  656\n",
      "wealth_segment                           0\n",
      "deceased_indicator                       0\n",
      "default                                302\n",
      "owns_car                                 0\n",
      "tenure                                  87\n",
      "dtype: int64\n"
     ]
    }
   ],
   "source": [
    "# Completeness\n",
    "print(customer_demographic.isnull().sum())"
   ],
   "metadata": {
    "collapsed": false,
    "ExecuteTime": {
     "end_time": "2023-09-29T00:39:22.850070500Z",
     "start_time": "2023-09-29T00:39:22.838709700Z"
    }
   }
  },
  {
   "cell_type": "code",
   "execution_count": 13,
   "outputs": [
    {
     "name": "stdout",
     "output_type": "stream",
     "text": [
      "<class 'pandas.core.frame.DataFrame'>\n",
      "RangeIndex: 4000 entries, 0 to 3999\n",
      "Data columns (total 13 columns):\n",
      " #   Column                               Non-Null Count  Dtype  \n",
      "---  ------                               --------------  -----  \n",
      " 0   customer_id                          4000 non-null   int64  \n",
      " 1   first_name                           4000 non-null   object \n",
      " 2   last_name                            3875 non-null   object \n",
      " 3   gender                               4000 non-null   object \n",
      " 4   past_3_years_bike_related_purchases  4000 non-null   int64  \n",
      " 5   DOB                                  3913 non-null   object \n",
      " 6   job_title                            3494 non-null   object \n",
      " 7   job_industry_category                3344 non-null   object \n",
      " 8   wealth_segment                       4000 non-null   object \n",
      " 9   deceased_indicator                   4000 non-null   object \n",
      " 10  default                              3698 non-null   object \n",
      " 11  owns_car                             4000 non-null   object \n",
      " 12  tenure                               3913 non-null   float64\n",
      "dtypes: float64(1), int64(2), object(10)\n",
      "memory usage: 406.4+ KB\n",
      "None \n",
      "\n",
      "\n"
     ]
    }
   ],
   "source": [
    "# Accuracy\n",
    "print(customer_demographic.info(), '\\n\\n')\n",
    "\n",
    "    # DOB is an object and should be datetime"
   ],
   "metadata": {
    "collapsed": false,
    "ExecuteTime": {
     "end_time": "2023-09-29T00:39:29.589941200Z",
     "start_time": "2023-09-29T00:39:29.577906600Z"
    }
   }
  },
  {
   "cell_type": "code",
   "execution_count": null,
   "outputs": [],
   "source": [
    "# Relevancy\n",
    "\n",
    "    # default column has mixed datatypes and I cannot identify what the column means by 'default' and what their values mean as there is no consistency here\n",
    "\n"
   ],
   "metadata": {
    "collapsed": false
   }
  },
  {
   "cell_type": "code",
   "execution_count": 16,
   "outputs": [
    {
     "name": "stdout",
     "output_type": "stream",
     "text": [
      "customer_id\n",
      "1       1\n",
      "2672    1\n",
      "2659    1\n",
      "2660    1\n",
      "2661    1\n",
      "       ..\n",
      "1339    1\n",
      "1340    1\n",
      "1341    1\n",
      "1342    1\n",
      "4000    1\n",
      "Name: count, Length: 4000, dtype: int64 \n",
      "\n",
      "past_3_years_bike_related_purchases\n",
      "16    56\n",
      "19    56\n",
      "67    54\n",
      "20    54\n",
      "2     50\n",
      "      ..\n",
      "8     28\n",
      "95    27\n",
      "85    27\n",
      "86    27\n",
      "92    24\n",
      "Name: count, Length: 100, dtype: int64 \n",
      "\n",
      "tenure\n",
      "7.0     235\n",
      "5.0     228\n",
      "11.0    221\n",
      "10.0    218\n",
      "16.0    215\n",
      "8.0     211\n",
      "18.0    208\n",
      "12.0    202\n",
      "9.0     200\n",
      "14.0    200\n",
      "6.0     192\n",
      "13.0    191\n",
      "4.0     191\n",
      "17.0    182\n",
      "15.0    179\n",
      "1.0     166\n",
      "3.0     160\n",
      "19.0    159\n",
      "2.0     150\n",
      "20.0     96\n",
      "22.0     55\n",
      "21.0     54\n",
      "Name: count, dtype: int64 \n",
      "\n"
     ]
    }
   ],
   "source": [
    "# Consistency: numerical cols\n",
    "\n",
    "numeric_cols1 = ['customer_id','past_3_years_bike_related_purchases','tenure']\n",
    "\n",
    "for column in numeric_cols1:\n",
    "    print(customer_demographic[column].value_counts(), '\\n')\n",
    "\n",
    "    # consistency in numerical columns\n"
   ],
   "metadata": {
    "collapsed": false,
    "ExecuteTime": {
     "end_time": "2023-09-29T01:01:22.210260100Z",
     "start_time": "2023-09-29T01:01:22.204011Z"
    }
   }
  },
  {
   "cell_type": "code",
   "execution_count": 19,
   "outputs": [
    {
     "name": "stdout",
     "output_type": "stream",
     "text": [
      "first_name\n",
      "Max         5\n",
      "Tobe        5\n",
      "Timmie      5\n",
      "Kippy       4\n",
      "Pail        4\n",
      "           ..\n",
      "Katy        1\n",
      "Hakim       1\n",
      "Fanchon     1\n",
      "Jeanette    1\n",
      "Sarene      1\n",
      "Name: count, Length: 3139, dtype: int64 \n",
      "\n",
      "last_name\n",
      "Pristnor     3\n",
      "Ramsdell     3\n",
      "Eager        2\n",
      "Zisneros     2\n",
      "Dredge       2\n",
      "            ..\n",
      "Whittock     1\n",
      "Carwithen    1\n",
      "Blas         1\n",
      "Dearlove     1\n",
      "Oldland      1\n",
      "Name: count, Length: 3725, dtype: int64 \n",
      "\n",
      "gender\n",
      "Female    2037\n",
      "Male      1872\n",
      "U           88\n",
      "F            1\n",
      "Femal        1\n",
      "M            1\n",
      "Name: count, dtype: int64 \n",
      "\n",
      "DOB\n",
      "1978-01-30    7\n",
      "1964-07-08    4\n",
      "1962-12-17    4\n",
      "1978-08-19    4\n",
      "1977-05-13    4\n",
      "             ..\n",
      "1989-06-16    1\n",
      "1998-09-30    1\n",
      "1985-03-11    1\n",
      "1989-10-23    1\n",
      "1991-11-05    1\n",
      "Name: count, Length: 3448, dtype: int64 \n",
      "\n",
      "job_title\n",
      "Business Systems Development Analyst    45\n",
      "Tax Accountant                          44\n",
      "Social Worker                           44\n",
      "Internal Auditor                        42\n",
      "Recruiting Manager                      41\n",
      "                                        ..\n",
      "Database Administrator I                 4\n",
      "Health Coach I                           3\n",
      "Health Coach III                         3\n",
      "Research Assistant III                   3\n",
      "Developer I                              1\n",
      "Name: count, Length: 195, dtype: int64 \n",
      "\n",
      "job_industry_category\n",
      "Manufacturing         799\n",
      "Financial Services    774\n",
      "Health                602\n",
      "Retail                358\n",
      "Property              267\n",
      "IT                    223\n",
      "Entertainment         136\n",
      "Argiculture           113\n",
      "Telecommunications     72\n",
      "Name: count, dtype: int64 \n",
      "\n",
      "wealth_segment\n",
      "Mass Customer        2000\n",
      "High Net Worth       1021\n",
      "Affluent Customer     979\n",
      "Name: count, dtype: int64 \n",
      "\n",
      "deceased_indicator\n",
      "N    3998\n",
      "Y       2\n",
      "Name: count, dtype: int64 \n",
      "\n",
      "owns_car\n",
      "Yes    2024\n",
      "No     1976\n",
      "Name: count, dtype: int64 \n",
      "\n"
     ]
    }
   ],
   "source": [
    "# Consistency: object cols\n",
    "\n",
    "objects2 = ['first_name', 'last_name', 'gender', 'DOB', 'job_title', 'job_industry_category', 'wealth_segment', 'deceased_indicator', 'owns_car' ]\n",
    "\n",
    "for column in objects2:\n",
    "    print(customer_demographic[column].value_counts(), '\\n')\n",
    "\n",
    "    # gender: inconsistency (should just be 'Female' / 'Male' or 'F' or 'M')"
   ],
   "metadata": {
    "collapsed": false,
    "ExecuteTime": {
     "end_time": "2023-09-29T01:06:18.297680200Z",
     "start_time": "2023-09-29T01:06:18.290573800Z"
    }
   }
  },
  {
   "cell_type": "code",
   "execution_count": null,
   "outputs": [],
   "source": [],
   "metadata": {
    "collapsed": false
   }
  },
  {
   "cell_type": "code",
   "execution_count": 14,
   "outputs": [
    {
     "name": "stdout",
     "output_type": "stream",
     "text": [
      "Index(['customer_id', 'first_name', 'last_name', 'gender',\n",
      "       'past_3_years_bike_related_purchases', 'DOB', 'job_title',\n",
      "       'job_industry_category', 'wealth_segment', 'deceased_indicator',\n",
      "       'default', 'owns_car', 'tenure'],\n",
      "      dtype='object')\n"
     ]
    }
   ],
   "source": [
    "print(customer_demographic.columns)"
   ],
   "metadata": {
    "collapsed": false,
    "ExecuteTime": {
     "end_time": "2023-09-29T00:54:05.909738600Z",
     "start_time": "2023-09-29T00:54:05.894643900Z"
    }
   }
  },
  {
   "cell_type": "markdown",
   "source": [
    "Data Quality Report: customer_demographic\n",
    "\n",
    "    1. Consistency\n",
    "    2. Accuracy\n",
    "    3. Completeness\n",
    "    4. Relevancy\n",
    "\n",
    "    1.1) Consistency: among numerical columns\n",
    "        - consistency in numerical columns\n",
    "\n",
    "    1.2) Consistency among object cols\n",
    "        - gender: inconsistency (should just be 'Female' / 'Male' or 'F' or 'M')\n",
    "\n",
    "    2) Accuracy:\n",
    "        - DOB is an object type and should be datetime\n",
    "\n",
    "    3) Completeness:\n",
    "\n",
    "        - last_name                              125 nulls\n",
    "        - DOB                                     87 nulls\n",
    "        - job_title                              506 nulls\n",
    "        - job_industry_category                  656 nulls\n",
    "\n",
    "\n",
    "    4) Relevancy:\n",
    "        - default column has mixed datatypes and I cannot identify what the column means by 'default' and what their values mean as there is no consistency here\n",
    "\n"
   ],
   "metadata": {
    "collapsed": false
   }
  },
  {
   "cell_type": "markdown",
   "source": [
    "_____________ customer_address dataset ___________"
   ],
   "metadata": {
    "collapsed": false
   }
  },
  {
   "cell_type": "code",
   "execution_count": 25,
   "outputs": [
    {
     "name": "stdout",
     "output_type": "stream",
     "text": [
      "    customer_id                  address  postcode            state  \\\n",
      "0             1       060 Morning Avenue      2016  New South Wales   \n",
      "1             2      6 Meadow Vale Court      2153  New South Wales   \n",
      "2             4       0 Holy Cross Court      4211              QLD   \n",
      "3             5      17979 Del Mar Point      2448  New South Wales   \n",
      "4             6         9 Oakridge Court      3216              VIC   \n",
      "5             7         4 Delaware Trail      2210  New South Wales   \n",
      "6             8      49 Londonderry Lane      2650  New South Wales   \n",
      "7             9          97736 7th Trail      2023  New South Wales   \n",
      "8            11     93405 Ludington Park      3044              VIC   \n",
      "9            12  44339 Golden Leaf Alley      4557              QLD   \n",
      "10           13      2 Sutherland Street      3799              VIC   \n",
      "11           14          9 Mcbride Trail      2760  New South Wales   \n",
      "12           15   9861 New Castle Avenue      2428  New South Wales   \n",
      "13           16         52 Moland Street      3331              VIC   \n",
      "14           17    82391 Kensington Lane      3058              VIC   \n",
      "15           18            092 2nd Alley      2135  New South Wales   \n",
      "16           19        59 Spaight Circle      2233  New South Wales   \n",
      "17           20     032 Bartelt Crossing      2444  New South Wales   \n",
      "18           21          18 Jenna Center      2650  New South Wales   \n",
      "19           24         3 Cordelia Plaza      2153  New South Wales   \n",
      "\n",
      "      country  property_valuation  \n",
      "0   Australia                  10  \n",
      "1   Australia                  10  \n",
      "2   Australia                   9  \n",
      "3   Australia                   4  \n",
      "4   Australia                   9  \n",
      "5   Australia                   9  \n",
      "6   Australia                   4  \n",
      "7   Australia                  12  \n",
      "8   Australia                   8  \n",
      "9   Australia                   4  \n",
      "10  Australia                   6  \n",
      "11  Australia                   8  \n",
      "12  Australia                   9  \n",
      "13  Australia                   4  \n",
      "14  Australia                   9  \n",
      "15  Australia                  12  \n",
      "16  Australia                   9  \n",
      "17  Australia                   8  \n",
      "18  Australia                   7  \n",
      "19  Australia                  10  \n"
     ]
    }
   ],
   "source": [
    "# taking a peek into the dataset\n",
    "print(customer_address.head(20))"
   ],
   "metadata": {
    "collapsed": false,
    "ExecuteTime": {
     "end_time": "2023-09-30T04:11:26.384144400Z",
     "start_time": "2023-09-30T04:11:26.353874500Z"
    }
   }
  },
  {
   "cell_type": "code",
   "execution_count": 21,
   "outputs": [
    {
     "name": "stdout",
     "output_type": "stream",
     "text": [
      "customer_id           0\n",
      "address               0\n",
      "postcode              0\n",
      "state                 0\n",
      "country               0\n",
      "property_valuation    0\n",
      "dtype: int64\n"
     ]
    }
   ],
   "source": [
    "# completeness\n",
    "\n",
    "print(customer_address.isnull().sum())\n",
    "\n",
    "    # no nulls in this entire dataset"
   ],
   "metadata": {
    "collapsed": false,
    "ExecuteTime": {
     "end_time": "2023-09-29T01:47:21.075008400Z",
     "start_time": "2023-09-29T01:47:21.033276400Z"
    }
   }
  },
  {
   "cell_type": "code",
   "execution_count": 22,
   "outputs": [
    {
     "name": "stdout",
     "output_type": "stream",
     "text": [
      "<class 'pandas.core.frame.DataFrame'>\n",
      "RangeIndex: 3999 entries, 0 to 3998\n",
      "Data columns (total 6 columns):\n",
      " #   Column              Non-Null Count  Dtype \n",
      "---  ------              --------------  ----- \n",
      " 0   customer_id         3999 non-null   int64 \n",
      " 1   address             3999 non-null   object\n",
      " 2   postcode            3999 non-null   int64 \n",
      " 3   state               3999 non-null   object\n",
      " 4   country             3999 non-null   object\n",
      " 5   property_valuation  3999 non-null   int64 \n",
      "dtypes: int64(3), object(3)\n",
      "memory usage: 187.6+ KB\n",
      "None\n"
     ]
    }
   ],
   "source": [
    "# accuracy\n",
    "\n",
    "print(customer_address.info())\n",
    "\n",
    "    # all data types are appropriate for cols"
   ],
   "metadata": {
    "collapsed": false,
    "ExecuteTime": {
     "end_time": "2023-09-29T01:47:57.190692500Z",
     "start_time": "2023-09-29T01:47:57.153597Z"
    }
   }
  },
  {
   "cell_type": "code",
   "execution_count": 27,
   "outputs": [
    {
     "name": "stdout",
     "output_type": "stream",
     "text": [
      "0    10\n",
      "1    10\n",
      "2     9\n",
      "3     4\n",
      "4     9\n",
      "5     9\n",
      "6     4\n",
      "7    12\n",
      "8     8\n",
      "9     4\n",
      "Name: property_valuation, dtype: int64\n"
     ]
    }
   ],
   "source": [
    "# relevancy\n",
    "\n",
    "print(customer_address['property_valuation'].head(10))\n",
    "\n",
    "    # value meaning in property_valuation is unclear\n",
    "        # shortened to 10, 9, 4 etc"
   ],
   "metadata": {
    "collapsed": false,
    "ExecuteTime": {
     "end_time": "2023-09-30T04:13:53.378061Z",
     "start_time": "2023-09-30T04:13:53.344585200Z"
    }
   }
  },
  {
   "cell_type": "code",
   "execution_count": 24,
   "outputs": [
    {
     "name": "stdout",
     "output_type": "stream",
     "text": [
      "state\n",
      "NSW                2054\n",
      "VIC                 939\n",
      "QLD                 838\n",
      "New South Wales      86\n",
      "Victoria             82\n",
      "Name: count, dtype: int64\n"
     ]
    }
   ],
   "source": [
    "# consistency\n",
    "\n",
    "print(customer_address['state'].value_counts())\n",
    "      # NSW value contradicts with New South Wales\n",
    "      # VIC value contradicts with Victoria\n",
    "        # need to find a way to combine these since they mean the same thing"
   ],
   "metadata": {
    "collapsed": false,
    "ExecuteTime": {
     "end_time": "2023-09-30T04:09:23.536563800Z",
     "start_time": "2023-09-30T04:09:23.508508100Z"
    }
   }
  },
  {
   "cell_type": "markdown",
   "source": [],
   "metadata": {
    "collapsed": false
   }
  },
  {
   "cell_type": "markdown",
   "source": [
    "Data Quality Report: customer_address\n",
    "\n",
    "    1. Consistency\n",
    "    2. Accuracy\n",
    "    3. Completeness\n",
    "    4. Relevancy\n",
    "\n",
    "    1.1) Consistency:\n",
    "        - NSW value contradicts with New South Wales\n",
    "        - VIC value contradicts with Victoria\n",
    "        - need to find a way to combine these since they mean the same thing\n",
    "\n",
    "    2) Accuracy:\n",
    "        - all data types are appropriate for cols\n",
    "\n",
    "    3) Completeness:\n",
    "        - no nulls in this entire dataset\n",
    "\n",
    "    4) Relevancy:\n",
    "        - value meaning in property_valuation is unclear\n",
    "        - values shortened / abbreviated to 10, 9, 4 etc\n"
   ],
   "metadata": {
    "collapsed": false
   }
  },
  {
   "cell_type": "code",
   "execution_count": null,
   "outputs": [],
   "source": [
    "# regression and clustering models\n",
    "    # focus the most on clustering since groups"
   ],
   "metadata": {
    "collapsed": false
   }
  },
  {
   "cell_type": "code",
   "execution_count": 5,
   "outputs": [
    {
     "name": "stdout",
     "output_type": "stream",
     "text": [
      "   customer_id      first_name  last_name  gender  \\\n",
      "0            1         Laraine  Medendorp       F   \n",
      "1            2             Eli    Bockman    Male   \n",
      "2            3           Arlin     Dearle    Male   \n",
      "3            4          Talbot        NaN    Male   \n",
      "4            5  Sheila-kathryn     Calton  Female   \n",
      "\n",
      "   past_3_years_bike_related_purchases                  DOB  \\\n",
      "0                                   93  1953-10-12 00:00:00   \n",
      "1                                   81  1980-12-16 00:00:00   \n",
      "2                                   61  1954-01-20 00:00:00   \n",
      "3                                   33  1961-10-03 00:00:00   \n",
      "4                                   56  1977-05-13 00:00:00   \n",
      "\n",
      "                job_title job_industry_category     wealth_segment  \\\n",
      "0     Executive Secretary                Health      Mass Customer   \n",
      "1  Administrative Officer    Financial Services      Mass Customer   \n",
      "2      Recruiting Manager              Property      Mass Customer   \n",
      "3                     NaN                    IT      Mass Customer   \n",
      "4           Senior Editor                   NaN  Affluent Customer   \n",
      "\n",
      "  deceased_indicator                                            default  \\\n",
      "0                  N                                                 \"'   \n",
      "1                  N                       <script>alert('hi')</script>   \n",
      "2                  N                                2018-02-01 00:00:00   \n",
      "3                  N  () { _; } >_[$($())] { touch /tmp/blns.shellsh...   \n",
      "4                  N                                                NIL   \n",
      "\n",
      "  owns_car  tenure  \n",
      "0      Yes    11.0  \n",
      "1      Yes    16.0  \n",
      "2      Yes    15.0  \n",
      "3       No     7.0  \n",
      "4      Yes     8.0  \n"
     ]
    }
   ],
   "source": [
    "print(customer_demographic.head())"
   ],
   "metadata": {
    "collapsed": false,
    "ExecuteTime": {
     "end_time": "2023-11-03T19:42:27.722428900Z",
     "start_time": "2023-11-03T19:42:27.715493400Z"
    }
   }
  },
  {
   "cell_type": "code",
   "execution_count": 2,
   "outputs": [],
   "source": [],
   "metadata": {
    "collapsed": false,
    "ExecuteTime": {
     "end_time": "2023-11-03T19:41:55.924677200Z",
     "start_time": "2023-11-03T19:41:55.905646400Z"
    }
   }
  },
  {
   "cell_type": "code",
   "execution_count": null,
   "outputs": [],
   "source": [],
   "metadata": {
    "collapsed": false
   }
  }
 ],
 "metadata": {
  "kernelspec": {
   "display_name": "Python 3",
   "language": "python",
   "name": "python3"
  },
  "language_info": {
   "codemirror_mode": {
    "name": "ipython",
    "version": 2
   },
   "file_extension": ".py",
   "mimetype": "text/x-python",
   "name": "python",
   "nbconvert_exporter": "python",
   "pygments_lexer": "ipython2",
   "version": "2.7.6"
  }
 },
 "nbformat": 4,
 "nbformat_minor": 0
}
