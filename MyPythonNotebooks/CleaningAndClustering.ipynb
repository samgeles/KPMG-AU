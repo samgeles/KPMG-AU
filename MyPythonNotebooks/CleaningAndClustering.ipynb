{
 "cells": [
  {
   "cell_type": "code",
   "execution_count": 2,
   "metadata": {
    "collapsed": true,
    "ExecuteTime": {
     "end_time": "2023-11-19T01:38:46.843987800Z",
     "start_time": "2023-11-19T01:38:46.516652400Z"
    }
   },
   "outputs": [],
   "source": [
    "# Importing libraries\n",
    "import pandas as pd\n",
    "import numpy as np\n",
    "import matplotlib.pyplot as plt\n",
    "import seaborn as sns\n",
    "from datetime import datetime\n",
    "from sklearn import preprocessing\n",
    "from sklearn.cluster import KMeans\n",
    "from pandas.plotting import parallel_coordinates\n",
    "%matplotlib inline"
   ]
  },
  {
   "cell_type": "code",
   "execution_count": 3,
   "outputs": [],
   "source": [
    "#read into CSV files\n",
    "CustomerAddress = pd.read_csv('Customer Address.csv')\n",
    "CustomerDemographic = pd.read_csv('Customer Demographic.csv')\n",
    "Transactions = pd.read_csv('Transactions.csv')\n"
   ],
   "metadata": {
    "collapsed": false,
    "ExecuteTime": {
     "end_time": "2023-11-19T01:38:48.851948900Z",
     "start_time": "2023-11-19T01:38:48.769514500Z"
    }
   }
  },
  {
   "cell_type": "markdown",
   "source": [
    "Cleaning CustomerDemographic"
   ],
   "metadata": {
    "collapsed": false
   }
  },
  {
   "cell_type": "code",
   "execution_count": 4,
   "outputs": [
    {
     "name": "stdout",
     "output_type": "stream",
     "text": [
      "Index(['customer_id', 'first_name', 'last_name', 'gender',\n",
      "       'past_3_years_bike_related_purchases', 'DOB', 'job_title',\n",
      "       'job_industry_category', 'wealth_segment', 'deceased_indicator',\n",
      "       'owns_car', 'tenure'],\n",
      "      dtype='object')\n"
     ]
    }
   ],
   "source": [
    " # dropping irrelevant columns\n",
    "\n",
    "selected_columns = [\n",
    "'customer_id', 'first_name', 'last_name', 'gender',\n",
    "'past_3_years_bike_related_purchases', 'DOB', 'job_title',\n",
    "'job_industry_category', 'wealth_segment', 'deceased_indicator','owns_car','tenure'\n",
    "]\n",
    "\n",
    "CustomerDemographicSubset = CustomerDemographic[selected_columns].copy()\n",
    "\n",
    "    # .copy creates a copy of the dataframe you're subsetting vs a view\n",
    "\n",
    "print(CustomerDemographicSubset.columns)"
   ],
   "metadata": {
    "collapsed": false,
    "ExecuteTime": {
     "end_time": "2023-11-19T01:38:51.064481700Z",
     "start_time": "2023-11-19T01:38:51.056823Z"
    }
   }
  },
  {
   "cell_type": "code",
   "execution_count": 5,
   "outputs": [
    {
     "name": "stdout",
     "output_type": "stream",
     "text": [
      "customer_id                             0.00\n",
      "first_name                              0.00\n",
      "last_name                               3.12\n",
      "gender                                  0.00\n",
      "past_3_years_bike_related_purchases     0.00\n",
      "DOB                                     2.17\n",
      "job_title                              12.65\n",
      "job_industry_category                  16.40\n",
      "wealth_segment                          0.00\n",
      "deceased_indicator                      0.00\n",
      "owns_car                                0.00\n",
      "tenure                                  2.17\n",
      "dtype: float64\n"
     ]
    }
   ],
   "source": [
    "# dropping nulls\n",
    "\n",
    "null_percentage = (CustomerDemographicSubset.isnull().sum() / len(CustomerDemographicSubset) * 100).round(2)\n",
    "\n",
    "print(null_percentage)\n",
    "\n",
    "CustomerDemographicSubset.dropna(inplace=True)"
   ],
   "metadata": {
    "collapsed": false,
    "ExecuteTime": {
     "end_time": "2023-11-19T01:39:00.239066400Z",
     "start_time": "2023-11-19T01:39:00.223209300Z"
    }
   }
  },
  {
   "cell_type": "code",
   "execution_count": 11,
   "outputs": [
    {
     "name": "stdout",
     "output_type": "stream",
     "text": [
      "gender\n",
      "Female    1446\n",
      "Male      1333\n",
      "Name: count, dtype: int64 \n",
      "\n"
     ]
    }
   ],
   "source": [
    "# handling consistency errors in the gender column\n",
    "\n",
    "CustomerDemographicSubset['gender'] = CustomerDemographicSubset['gender'].replace('F','Female')\n",
    "\n",
    "CustomerDemographicSubset['gender'] = CustomerDemographicSubset['gender'].replace('Femal','Female')\n",
    "\n",
    "CustomerDemographicSubset = CustomerDemographicSubset[CustomerDemographicSubset['gender'] !='U']\n",
    "\n",
    "    # if I didn't reassign it to itself then it would just be a view\n",
    "\n",
    "print(CustomerDemographicSubset.gender.value_counts(), '\\n')"
   ],
   "metadata": {
    "collapsed": false,
    "ExecuteTime": {
     "end_time": "2023-11-14T00:35:21.836839200Z",
     "start_time": "2023-11-14T00:35:21.796749400Z"
    }
   }
  },
  {
   "cell_type": "code",
   "execution_count": 7,
   "outputs": [],
   "source": [
    "# convert DOB to datetime\n",
    "\n",
    "CustomerDemographicSubset['DOB'] = pd.to_datetime(CustomerDemographicSubset['DOB'], format='mixed')\n",
    "\n",
    "    # pd.to_datetime is pretty smart at detecting dates if it's in some sort of standard format\n"
   ],
   "metadata": {
    "collapsed": false,
    "ExecuteTime": {
     "end_time": "2023-11-19T01:40:03.396874100Z",
     "start_time": "2023-11-19T01:40:03.382558Z"
    }
   }
  },
  {
   "cell_type": "code",
   "execution_count": 8,
   "outputs": [
    {
     "data": {
      "text/plain": "   customer_id first_name  last_name  gender  \\\n0            1    Laraine  Medendorp       F   \n1            2        Eli    Bockman    Male   \n2            3      Arlin     Dearle    Male   \n8            9       Mala       Lind  Female   \n9           10   Fiorenze    Birdall  Female   \n\n   past_3_years_bike_related_purchases        DOB  \\\n0                                   93 1953-10-12   \n1                                   81 1980-12-16   \n2                                   61 1954-01-20   \n8                                   97 1973-03-10   \n9                                   49 1988-10-11   \n\n                              job_title job_industry_category  \\\n0                   Executive Secretary                Health   \n1                Administrative Officer    Financial Services   \n2                    Recruiting Manager              Property   \n8  Business Systems Development Analyst           Argiculture   \n9               Senior Quality Engineer    Financial Services   \n\n      wealth_segment deceased_indicator owns_car  tenure  \n0      Mass Customer                  N      Yes    11.0  \n1      Mass Customer                  N      Yes    16.0  \n2      Mass Customer                  N      Yes    15.0  \n8  Affluent Customer                  N      Yes     8.0  \n9      Mass Customer                  N      Yes    20.0  ",
      "text/html": "<div>\n<style scoped>\n    .dataframe tbody tr th:only-of-type {\n        vertical-align: middle;\n    }\n\n    .dataframe tbody tr th {\n        vertical-align: top;\n    }\n\n    .dataframe thead th {\n        text-align: right;\n    }\n</style>\n<table border=\"1\" class=\"dataframe\">\n  <thead>\n    <tr style=\"text-align: right;\">\n      <th></th>\n      <th>customer_id</th>\n      <th>first_name</th>\n      <th>last_name</th>\n      <th>gender</th>\n      <th>past_3_years_bike_related_purchases</th>\n      <th>DOB</th>\n      <th>job_title</th>\n      <th>job_industry_category</th>\n      <th>wealth_segment</th>\n      <th>deceased_indicator</th>\n      <th>owns_car</th>\n      <th>tenure</th>\n    </tr>\n  </thead>\n  <tbody>\n    <tr>\n      <th>0</th>\n      <td>1</td>\n      <td>Laraine</td>\n      <td>Medendorp</td>\n      <td>F</td>\n      <td>93</td>\n      <td>1953-10-12</td>\n      <td>Executive Secretary</td>\n      <td>Health</td>\n      <td>Mass Customer</td>\n      <td>N</td>\n      <td>Yes</td>\n      <td>11.0</td>\n    </tr>\n    <tr>\n      <th>1</th>\n      <td>2</td>\n      <td>Eli</td>\n      <td>Bockman</td>\n      <td>Male</td>\n      <td>81</td>\n      <td>1980-12-16</td>\n      <td>Administrative Officer</td>\n      <td>Financial Services</td>\n      <td>Mass Customer</td>\n      <td>N</td>\n      <td>Yes</td>\n      <td>16.0</td>\n    </tr>\n    <tr>\n      <th>2</th>\n      <td>3</td>\n      <td>Arlin</td>\n      <td>Dearle</td>\n      <td>Male</td>\n      <td>61</td>\n      <td>1954-01-20</td>\n      <td>Recruiting Manager</td>\n      <td>Property</td>\n      <td>Mass Customer</td>\n      <td>N</td>\n      <td>Yes</td>\n      <td>15.0</td>\n    </tr>\n    <tr>\n      <th>8</th>\n      <td>9</td>\n      <td>Mala</td>\n      <td>Lind</td>\n      <td>Female</td>\n      <td>97</td>\n      <td>1973-03-10</td>\n      <td>Business Systems Development Analyst</td>\n      <td>Argiculture</td>\n      <td>Affluent Customer</td>\n      <td>N</td>\n      <td>Yes</td>\n      <td>8.0</td>\n    </tr>\n    <tr>\n      <th>9</th>\n      <td>10</td>\n      <td>Fiorenze</td>\n      <td>Birdall</td>\n      <td>Female</td>\n      <td>49</td>\n      <td>1988-10-11</td>\n      <td>Senior Quality Engineer</td>\n      <td>Financial Services</td>\n      <td>Mass Customer</td>\n      <td>N</td>\n      <td>Yes</td>\n      <td>20.0</td>\n    </tr>\n  </tbody>\n</table>\n</div>"
     },
     "execution_count": 8,
     "metadata": {},
     "output_type": "execute_result"
    }
   ],
   "source": [
    "# Final Cleaned Dataset\n",
    "\n",
    "Clean\n",
    "CustomerDemographicSubset.head()"
   ],
   "metadata": {
    "collapsed": false,
    "ExecuteTime": {
     "end_time": "2023-11-19T01:40:10.116323500Z",
     "start_time": "2023-11-19T01:40:10.079079Z"
    }
   }
  },
  {
   "cell_type": "markdown",
   "source": [
    "Clean Transactions"
   ],
   "metadata": {
    "collapsed": false
   }
  },
  {
   "cell_type": "code",
   "execution_count": 9,
   "outputs": [],
   "source": [
    "# subset dataframe\n",
    "\n",
    "cols = ['transaction_id','product_id','customer_id','transaction_date','online_order', 'order_status','brand','product_line','product_class','product_size','list_price','standard_cost' ]\n",
    "\n",
    "TransactionsSubset = Transactions[cols].copy()"
   ],
   "metadata": {
    "collapsed": false,
    "ExecuteTime": {
     "end_time": "2023-11-19T01:40:22.062099Z",
     "start_time": "2023-11-19T01:40:22.046872100Z"
    }
   }
  },
  {
   "cell_type": "code",
   "execution_count": 10,
   "outputs": [],
   "source": [
    "# drop nulls\n",
    "\n",
    "TransactionsSubset.dropna(inplace=True)"
   ],
   "metadata": {
    "collapsed": false,
    "ExecuteTime": {
     "end_time": "2023-11-19T01:40:24.504733200Z",
     "start_time": "2023-11-19T01:40:24.467350300Z"
    }
   }
  },
  {
   "cell_type": "code",
   "execution_count": 11,
   "outputs": [
    {
     "data": {
      "text/plain": "   transaction_id  product_id  customer_id transaction_date online_order  \\\n0               1           2         2950        2/25/2017        False   \n1               2           3         3120        5/21/2017         True   \n2               3          37          402       10/16/2017        False   \n3               4          88         3135        8/31/2017        False   \n4               5          78          787        10/1/2017         True   \n\n  order_status           brand product_line product_class product_size  \\\n0     Approved           Solex     Standard        medium       medium   \n1     Approved   Trek Bicycles     Standard        medium        large   \n2     Approved      OHM Cycles     Standard           low       medium   \n3     Approved  Norco Bicycles     Standard        medium       medium   \n4     Approved  Giant Bicycles     Standard        medium        large   \n\n   list_price standard_cost  \n0       71.49       $53.62   \n1     2091.47      $388.92   \n2     1793.43      $248.82   \n3     1198.46      $381.10   \n4     1765.30      $709.48   ",
      "text/html": "<div>\n<style scoped>\n    .dataframe tbody tr th:only-of-type {\n        vertical-align: middle;\n    }\n\n    .dataframe tbody tr th {\n        vertical-align: top;\n    }\n\n    .dataframe thead th {\n        text-align: right;\n    }\n</style>\n<table border=\"1\" class=\"dataframe\">\n  <thead>\n    <tr style=\"text-align: right;\">\n      <th></th>\n      <th>transaction_id</th>\n      <th>product_id</th>\n      <th>customer_id</th>\n      <th>transaction_date</th>\n      <th>online_order</th>\n      <th>order_status</th>\n      <th>brand</th>\n      <th>product_line</th>\n      <th>product_class</th>\n      <th>product_size</th>\n      <th>list_price</th>\n      <th>standard_cost</th>\n    </tr>\n  </thead>\n  <tbody>\n    <tr>\n      <th>0</th>\n      <td>1</td>\n      <td>2</td>\n      <td>2950</td>\n      <td>2/25/2017</td>\n      <td>False</td>\n      <td>Approved</td>\n      <td>Solex</td>\n      <td>Standard</td>\n      <td>medium</td>\n      <td>medium</td>\n      <td>71.49</td>\n      <td>$53.62</td>\n    </tr>\n    <tr>\n      <th>1</th>\n      <td>2</td>\n      <td>3</td>\n      <td>3120</td>\n      <td>5/21/2017</td>\n      <td>True</td>\n      <td>Approved</td>\n      <td>Trek Bicycles</td>\n      <td>Standard</td>\n      <td>medium</td>\n      <td>large</td>\n      <td>2091.47</td>\n      <td>$388.92</td>\n    </tr>\n    <tr>\n      <th>2</th>\n      <td>3</td>\n      <td>37</td>\n      <td>402</td>\n      <td>10/16/2017</td>\n      <td>False</td>\n      <td>Approved</td>\n      <td>OHM Cycles</td>\n      <td>Standard</td>\n      <td>low</td>\n      <td>medium</td>\n      <td>1793.43</td>\n      <td>$248.82</td>\n    </tr>\n    <tr>\n      <th>3</th>\n      <td>4</td>\n      <td>88</td>\n      <td>3135</td>\n      <td>8/31/2017</td>\n      <td>False</td>\n      <td>Approved</td>\n      <td>Norco Bicycles</td>\n      <td>Standard</td>\n      <td>medium</td>\n      <td>medium</td>\n      <td>1198.46</td>\n      <td>$381.10</td>\n    </tr>\n    <tr>\n      <th>4</th>\n      <td>5</td>\n      <td>78</td>\n      <td>787</td>\n      <td>10/1/2017</td>\n      <td>True</td>\n      <td>Approved</td>\n      <td>Giant Bicycles</td>\n      <td>Standard</td>\n      <td>medium</td>\n      <td>large</td>\n      <td>1765.30</td>\n      <td>$709.48</td>\n    </tr>\n  </tbody>\n</table>\n</div>"
     },
     "execution_count": 11,
     "metadata": {},
     "output_type": "execute_result"
    }
   ],
   "source": [
    "# Final cleaned dataset ready for merging\n",
    "\n",
    "TransactionsSubset.head()"
   ],
   "metadata": {
    "collapsed": false,
    "ExecuteTime": {
     "end_time": "2023-11-19T01:40:27.021862200Z",
     "start_time": "2023-11-19T01:40:27.004915400Z"
    }
   }
  },
  {
   "cell_type": "markdown",
   "source": [
    "Clean Customer Address"
   ],
   "metadata": {
    "collapsed": false
   }
  },
  {
   "cell_type": "code",
   "execution_count": 12,
   "outputs": [],
   "source": [
    "# handle inconsistency in state column\n",
    "\n",
    "# create a dictionary with the replacements you want to make in the column\n",
    "state_replacements = {\n",
    "    'New South Wales': 'NSW',\n",
    "    'Victoria': 'VIC'\n",
    "}\n",
    "\n",
    "# Use .replace() method on state column and pass in the dictionary of replacements\n",
    "CustomerAddress['state'] = CustomerAddress['state'].replace(state_replacements)"
   ],
   "metadata": {
    "collapsed": false,
    "ExecuteTime": {
     "end_time": "2023-11-19T01:40:29.340551400Z",
     "start_time": "2023-11-19T01:40:29.327768700Z"
    }
   }
  },
  {
   "cell_type": "code",
   "execution_count": 13,
   "outputs": [],
   "source": [
    "# subset dataframe\n",
    "\n",
    "sub_columns = ['customer_id', 'address', 'postcode', 'state', 'country',\n",
    "       'property_valuation']\n",
    "\n",
    "CustomerAddressSubset = CustomerAddress[sub_columns].copy()"
   ],
   "metadata": {
    "collapsed": false,
    "ExecuteTime": {
     "end_time": "2023-11-19T01:40:32.641159700Z",
     "start_time": "2023-11-19T01:40:32.604120500Z"
    }
   }
  },
  {
   "cell_type": "code",
   "execution_count": 14,
   "outputs": [
    {
     "data": {
      "text/plain": "   customer_id              address  postcode state    country  \\\n0            1   060 Morning Avenue      2016   NSW  Australia   \n1            2  6 Meadow Vale Court      2153   NSW  Australia   \n2            4   0 Holy Cross Court      4211   QLD  Australia   \n3            5  17979 Del Mar Point      2448   NSW  Australia   \n4            6     9 Oakridge Court      3216   VIC  Australia   \n\n   property_valuation  \n0                  10  \n1                  10  \n2                   9  \n3                   4  \n4                   9  ",
      "text/html": "<div>\n<style scoped>\n    .dataframe tbody tr th:only-of-type {\n        vertical-align: middle;\n    }\n\n    .dataframe tbody tr th {\n        vertical-align: top;\n    }\n\n    .dataframe thead th {\n        text-align: right;\n    }\n</style>\n<table border=\"1\" class=\"dataframe\">\n  <thead>\n    <tr style=\"text-align: right;\">\n      <th></th>\n      <th>customer_id</th>\n      <th>address</th>\n      <th>postcode</th>\n      <th>state</th>\n      <th>country</th>\n      <th>property_valuation</th>\n    </tr>\n  </thead>\n  <tbody>\n    <tr>\n      <th>0</th>\n      <td>1</td>\n      <td>060 Morning Avenue</td>\n      <td>2016</td>\n      <td>NSW</td>\n      <td>Australia</td>\n      <td>10</td>\n    </tr>\n    <tr>\n      <th>1</th>\n      <td>2</td>\n      <td>6 Meadow Vale Court</td>\n      <td>2153</td>\n      <td>NSW</td>\n      <td>Australia</td>\n      <td>10</td>\n    </tr>\n    <tr>\n      <th>2</th>\n      <td>4</td>\n      <td>0 Holy Cross Court</td>\n      <td>4211</td>\n      <td>QLD</td>\n      <td>Australia</td>\n      <td>9</td>\n    </tr>\n    <tr>\n      <th>3</th>\n      <td>5</td>\n      <td>17979 Del Mar Point</td>\n      <td>2448</td>\n      <td>NSW</td>\n      <td>Australia</td>\n      <td>4</td>\n    </tr>\n    <tr>\n      <th>4</th>\n      <td>6</td>\n      <td>9 Oakridge Court</td>\n      <td>3216</td>\n      <td>VIC</td>\n      <td>Australia</td>\n      <td>9</td>\n    </tr>\n  </tbody>\n</table>\n</div>"
     },
     "execution_count": 14,
     "metadata": {},
     "output_type": "execute_result"
    }
   ],
   "source": [
    "# Final cleaned dataset ready to merge\n",
    "\n",
    "CustomerAddressSubset.head()"
   ],
   "metadata": {
    "collapsed": false,
    "ExecuteTime": {
     "end_time": "2023-11-19T01:40:35.241000100Z",
     "start_time": "2023-11-19T01:40:35.224622700Z"
    }
   }
  },
  {
   "cell_type": "code",
   "execution_count": 15,
   "outputs": [
    {
     "data": {
      "text/plain": "   customer_id first_name  last_name  gender  \\\n0            1    Laraine  Medendorp       F   \n1            2        Eli    Bockman    Male   \n2            9       Mala       Lind  Female   \n3           12    Sawyere   Flattman    Male   \n4           13   Gabriele   Norcross    Male   \n\n   past_3_years_bike_related_purchases        DOB  \\\n0                                   93 1953-10-12   \n1                                   81 1980-12-16   \n2                                   97 1973-03-10   \n3                                   58 1994-07-21   \n4                                   38 1955-02-15   \n\n                              job_title job_industry_category  \\\n0                   Executive Secretary                Health   \n1                Administrative Officer    Financial Services   \n2  Business Systems Development Analyst           Argiculture   \n3                Nuclear Power Engineer         Manufacturing   \n4                           Developer I    Financial Services   \n\n      wealth_segment deceased_indicator owns_car  tenure  \\\n0      Mass Customer                  N      Yes    11.0   \n1      Mass Customer                  N      Yes    16.0   \n2  Affluent Customer                  N      Yes     8.0   \n3      Mass Customer                  N       No     8.0   \n4     High Net Worth                  N      Yes     8.0   \n\n                   address  postcode state    country  property_valuation  \n0       060 Morning Avenue      2016   NSW  Australia                  10  \n1      6 Meadow Vale Court      2153   NSW  Australia                  10  \n2          97736 7th Trail      2023   NSW  Australia                  12  \n3  44339 Golden Leaf Alley      4557   QLD  Australia                   4  \n4      2 Sutherland Street      3799   VIC  Australia                   6  ",
      "text/html": "<div>\n<style scoped>\n    .dataframe tbody tr th:only-of-type {\n        vertical-align: middle;\n    }\n\n    .dataframe tbody tr th {\n        vertical-align: top;\n    }\n\n    .dataframe thead th {\n        text-align: right;\n    }\n</style>\n<table border=\"1\" class=\"dataframe\">\n  <thead>\n    <tr style=\"text-align: right;\">\n      <th></th>\n      <th>customer_id</th>\n      <th>first_name</th>\n      <th>last_name</th>\n      <th>gender</th>\n      <th>past_3_years_bike_related_purchases</th>\n      <th>DOB</th>\n      <th>job_title</th>\n      <th>job_industry_category</th>\n      <th>wealth_segment</th>\n      <th>deceased_indicator</th>\n      <th>owns_car</th>\n      <th>tenure</th>\n      <th>address</th>\n      <th>postcode</th>\n      <th>state</th>\n      <th>country</th>\n      <th>property_valuation</th>\n    </tr>\n  </thead>\n  <tbody>\n    <tr>\n      <th>0</th>\n      <td>1</td>\n      <td>Laraine</td>\n      <td>Medendorp</td>\n      <td>F</td>\n      <td>93</td>\n      <td>1953-10-12</td>\n      <td>Executive Secretary</td>\n      <td>Health</td>\n      <td>Mass Customer</td>\n      <td>N</td>\n      <td>Yes</td>\n      <td>11.0</td>\n      <td>060 Morning Avenue</td>\n      <td>2016</td>\n      <td>NSW</td>\n      <td>Australia</td>\n      <td>10</td>\n    </tr>\n    <tr>\n      <th>1</th>\n      <td>2</td>\n      <td>Eli</td>\n      <td>Bockman</td>\n      <td>Male</td>\n      <td>81</td>\n      <td>1980-12-16</td>\n      <td>Administrative Officer</td>\n      <td>Financial Services</td>\n      <td>Mass Customer</td>\n      <td>N</td>\n      <td>Yes</td>\n      <td>16.0</td>\n      <td>6 Meadow Vale Court</td>\n      <td>2153</td>\n      <td>NSW</td>\n      <td>Australia</td>\n      <td>10</td>\n    </tr>\n    <tr>\n      <th>2</th>\n      <td>9</td>\n      <td>Mala</td>\n      <td>Lind</td>\n      <td>Female</td>\n      <td>97</td>\n      <td>1973-03-10</td>\n      <td>Business Systems Development Analyst</td>\n      <td>Argiculture</td>\n      <td>Affluent Customer</td>\n      <td>N</td>\n      <td>Yes</td>\n      <td>8.0</td>\n      <td>97736 7th Trail</td>\n      <td>2023</td>\n      <td>NSW</td>\n      <td>Australia</td>\n      <td>12</td>\n    </tr>\n    <tr>\n      <th>3</th>\n      <td>12</td>\n      <td>Sawyere</td>\n      <td>Flattman</td>\n      <td>Male</td>\n      <td>58</td>\n      <td>1994-07-21</td>\n      <td>Nuclear Power Engineer</td>\n      <td>Manufacturing</td>\n      <td>Mass Customer</td>\n      <td>N</td>\n      <td>No</td>\n      <td>8.0</td>\n      <td>44339 Golden Leaf Alley</td>\n      <td>4557</td>\n      <td>QLD</td>\n      <td>Australia</td>\n      <td>4</td>\n    </tr>\n    <tr>\n      <th>4</th>\n      <td>13</td>\n      <td>Gabriele</td>\n      <td>Norcross</td>\n      <td>Male</td>\n      <td>38</td>\n      <td>1955-02-15</td>\n      <td>Developer I</td>\n      <td>Financial Services</td>\n      <td>High Net Worth</td>\n      <td>N</td>\n      <td>Yes</td>\n      <td>8.0</td>\n      <td>2 Sutherland Street</td>\n      <td>3799</td>\n      <td>VIC</td>\n      <td>Australia</td>\n      <td>6</td>\n    </tr>\n  </tbody>\n</table>\n</div>"
     },
     "execution_count": 15,
     "metadata": {},
     "output_type": "execute_result"
    }
   ],
   "source": [
    "# Merge the customer demographic dataset with the customer address dataset\n",
    "# Inner join is used to ensure customers are present in both datasets\n",
    "\n",
    "merged_customer_info = CustomerDemographicSubset.merge(CustomerAddressSubset, on=\"customer_id\", how=\"inner\")\n",
    "\n",
    "merged_customer_info.head()"
   ],
   "metadata": {
    "collapsed": false,
    "ExecuteTime": {
     "end_time": "2023-11-19T01:40:37.471591600Z",
     "start_time": "2023-11-19T01:40:37.421664100Z"
    }
   }
  },
  {
   "cell_type": "code",
   "execution_count": 35,
   "outputs": [
    {
     "name": "stdout",
     "output_type": "stream",
     "text": [
      "customer_id                            0\n",
      "first_name                             0\n",
      "last_name                              0\n",
      "gender                                 0\n",
      "past_3_years_bike_related_purchases    0\n",
      "DOB                                    0\n",
      "job_title                              0\n",
      "job_industry_category                  0\n",
      "wealth_segment                         0\n",
      "deceased_indicator                     0\n",
      "owns_car                               0\n",
      "tenure                                 0\n",
      "address                                0\n",
      "postcode                               0\n",
      "state                                  0\n",
      "country                                0\n",
      "property_valuation                     0\n",
      "dtype: int64 \n",
      "\n",
      "2777\n"
     ]
    }
   ],
   "source": [
    "# checking to see if there's nulls after merging or any unique values\n",
    "\n",
    "print(merged_customer_info.isnull().sum(), '\\n')\n",
    "\n",
    "print(merged_customer_info.customer_id.nunique())"
   ],
   "metadata": {
    "collapsed": false,
    "ExecuteTime": {
     "end_time": "2023-11-14T00:56:33.615239500Z",
     "start_time": "2023-11-14T00:56:33.604006700Z"
    }
   }
  },
  {
   "cell_type": "code",
   "execution_count": 16,
   "outputs": [
    {
     "data": {
      "text/plain": "   customer_id first_name  last_name  gender  \\\n0            1    Laraine  Medendorp       F   \n1            2        Eli    Bockman    Male   \n2            9       Mala       Lind  Female   \n3           12    Sawyere   Flattman    Male   \n4           13   Gabriele   Norcross    Male   \n\n   past_3_years_bike_related_purchases        DOB  \\\n0                                   93 1953-10-12   \n1                                   81 1980-12-16   \n2                                   97 1973-03-10   \n3                                   58 1994-07-21   \n4                                   38 1955-02-15   \n\n                              job_title job_industry_category  \\\n0                   Executive Secretary                Health   \n1                Administrative Officer    Financial Services   \n2  Business Systems Development Analyst           Argiculture   \n3                Nuclear Power Engineer         Manufacturing   \n4                           Developer I    Financial Services   \n\n      wealth_segment deceased_indicator owns_car  tenure  \\\n0      Mass Customer                  N      Yes    11.0   \n1      Mass Customer                  N      Yes    16.0   \n2  Affluent Customer                  N      Yes     8.0   \n3      Mass Customer                  N       No     8.0   \n4     High Net Worth                  N      Yes     8.0   \n\n                   address  postcode state    country  property_valuation  \n0       060 Morning Avenue      2016   NSW  Australia                  10  \n1      6 Meadow Vale Court      2153   NSW  Australia                  10  \n2          97736 7th Trail      2023   NSW  Australia                  12  \n3  44339 Golden Leaf Alley      4557   QLD  Australia                   4  \n4      2 Sutherland Street      3799   VIC  Australia                   6  ",
      "text/html": "<div>\n<style scoped>\n    .dataframe tbody tr th:only-of-type {\n        vertical-align: middle;\n    }\n\n    .dataframe tbody tr th {\n        vertical-align: top;\n    }\n\n    .dataframe thead th {\n        text-align: right;\n    }\n</style>\n<table border=\"1\" class=\"dataframe\">\n  <thead>\n    <tr style=\"text-align: right;\">\n      <th></th>\n      <th>customer_id</th>\n      <th>first_name</th>\n      <th>last_name</th>\n      <th>gender</th>\n      <th>past_3_years_bike_related_purchases</th>\n      <th>DOB</th>\n      <th>job_title</th>\n      <th>job_industry_category</th>\n      <th>wealth_segment</th>\n      <th>deceased_indicator</th>\n      <th>owns_car</th>\n      <th>tenure</th>\n      <th>address</th>\n      <th>postcode</th>\n      <th>state</th>\n      <th>country</th>\n      <th>property_valuation</th>\n    </tr>\n  </thead>\n  <tbody>\n    <tr>\n      <th>0</th>\n      <td>1</td>\n      <td>Laraine</td>\n      <td>Medendorp</td>\n      <td>F</td>\n      <td>93</td>\n      <td>1953-10-12</td>\n      <td>Executive Secretary</td>\n      <td>Health</td>\n      <td>Mass Customer</td>\n      <td>N</td>\n      <td>Yes</td>\n      <td>11.0</td>\n      <td>060 Morning Avenue</td>\n      <td>2016</td>\n      <td>NSW</td>\n      <td>Australia</td>\n      <td>10</td>\n    </tr>\n    <tr>\n      <th>1</th>\n      <td>2</td>\n      <td>Eli</td>\n      <td>Bockman</td>\n      <td>Male</td>\n      <td>81</td>\n      <td>1980-12-16</td>\n      <td>Administrative Officer</td>\n      <td>Financial Services</td>\n      <td>Mass Customer</td>\n      <td>N</td>\n      <td>Yes</td>\n      <td>16.0</td>\n      <td>6 Meadow Vale Court</td>\n      <td>2153</td>\n      <td>NSW</td>\n      <td>Australia</td>\n      <td>10</td>\n    </tr>\n    <tr>\n      <th>2</th>\n      <td>9</td>\n      <td>Mala</td>\n      <td>Lind</td>\n      <td>Female</td>\n      <td>97</td>\n      <td>1973-03-10</td>\n      <td>Business Systems Development Analyst</td>\n      <td>Argiculture</td>\n      <td>Affluent Customer</td>\n      <td>N</td>\n      <td>Yes</td>\n      <td>8.0</td>\n      <td>97736 7th Trail</td>\n      <td>2023</td>\n      <td>NSW</td>\n      <td>Australia</td>\n      <td>12</td>\n    </tr>\n    <tr>\n      <th>3</th>\n      <td>12</td>\n      <td>Sawyere</td>\n      <td>Flattman</td>\n      <td>Male</td>\n      <td>58</td>\n      <td>1994-07-21</td>\n      <td>Nuclear Power Engineer</td>\n      <td>Manufacturing</td>\n      <td>Mass Customer</td>\n      <td>N</td>\n      <td>No</td>\n      <td>8.0</td>\n      <td>44339 Golden Leaf Alley</td>\n      <td>4557</td>\n      <td>QLD</td>\n      <td>Australia</td>\n      <td>4</td>\n    </tr>\n    <tr>\n      <th>4</th>\n      <td>13</td>\n      <td>Gabriele</td>\n      <td>Norcross</td>\n      <td>Male</td>\n      <td>38</td>\n      <td>1955-02-15</td>\n      <td>Developer I</td>\n      <td>Financial Services</td>\n      <td>High Net Worth</td>\n      <td>N</td>\n      <td>Yes</td>\n      <td>8.0</td>\n      <td>2 Sutherland Street</td>\n      <td>3799</td>\n      <td>VIC</td>\n      <td>Australia</td>\n      <td>6</td>\n    </tr>\n  </tbody>\n</table>\n</div>"
     },
     "execution_count": 16,
     "metadata": {},
     "output_type": "execute_result"
    }
   ],
   "source": [
    "merged_customer_info.head()"
   ],
   "metadata": {
    "collapsed": false,
    "ExecuteTime": {
     "end_time": "2023-11-19T01:40:41.082519100Z",
     "start_time": "2023-11-19T01:40:41.067439500Z"
    }
   }
  },
  {
   "cell_type": "code",
   "execution_count": 17,
   "outputs": [
    {
     "data": {
      "text/plain": "count    2778.000000\nmean       39.892009\nstd        12.781897\nmin        15.000000\n25%        30.000000\n50%        40.000000\n75%        49.000000\nmax       174.000000\nName: age, dtype: float64"
     },
     "execution_count": 17,
     "metadata": {},
     "output_type": "execute_result"
    }
   ],
   "source": [
    "# Convert customer date of birth to customer age\n",
    "\n",
    "# Ensure DOB in datetime format\n",
    "merged_customer_info[\"DOB\"] = pd.to_datetime(merged_customer_info[\"DOB\"])\n",
    "\n",
    "# Specify the \"current\" date and time\n",
    "    # In the context of this exercise, we will call the current date 12/31/2017\n",
    "        # This is one day after the most recent transactions recorded\n",
    "current_date = datetime(2017, 12, 31)\n",
    "\n",
    "# Calculate the age of each customer by counting the years since DOB\n",
    "age = ((current_date - merged_customer_info[\"DOB\"]).dt.days // 365)\n",
    "\n",
    "# Add age as a new column to the merged customer dataframe\n",
    "merged_customer_info[\"age\"] = age\n",
    "\n",
    "# Print descriptive statistics of age column\n",
    "merged_customer_info[\"age\"].describe()"
   ],
   "metadata": {
    "collapsed": false,
    "ExecuteTime": {
     "end_time": "2023-11-19T01:40:43.402983700Z",
     "start_time": "2023-11-19T01:40:43.372262700Z"
    }
   }
  },
  {
   "cell_type": "markdown",
   "source": [
    "RFM Data Transformations and Variable Creation"
   ],
   "metadata": {
    "collapsed": false
   }
  },
  {
   "cell_type": "code",
   "execution_count": 28,
   "outputs": [
    {
     "data": {
      "text/plain": "count    2778.000000\nmean       61.392369\nstd        57.303262\nmin         1.000000\n25%        18.000000\n50%        44.000000\n75%        85.000000\nmax       334.000000\nName: R Value, dtype: float64"
     },
     "execution_count": 28,
     "metadata": {},
     "output_type": "execute_result"
    }
   ],
   "source": [
    "# RECENCY (not normalized)\n",
    "\n",
    "    # create a col in the merged customer df w days since last purchase\n",
    "\n",
    "# Ensure transaction date is in datetime format\n",
    "Transactions['transaction_date'] = pd.to_datetime(Transactions['transaction_date'])\n",
    "\n",
    "# Calculate each customer's most recent transaction date\n",
    "most_recent_transaction = Transactions.groupby('customer_id')['transaction_date'].max().reset_index()\n",
    "\n",
    "# Current date and time is 12/31/2017 (one dat after most recent transaction recorded\n",
    "    # can check this with Transactions['transaction_date'].max()\n",
    "\n",
    "current_date = datetime(2017,12,31)\n",
    "\n",
    "# Calculate number of days since each customer's last transaction\n",
    "days_since_purchase = (current_date - most_recent_transaction['transaction_date']).dt.days\n",
    "\n",
    "# Add days_since_purchase as a new col to merged_customer_info\n",
    "merged_customer_info['R Value'] = days_since_purchase\n",
    "\n",
    "# print descriptive stats of the R Value col\n",
    "merged_customer_info['R Value'].describe()"
   ],
   "metadata": {
    "collapsed": false,
    "ExecuteTime": {
     "end_time": "2023-11-19T01:59:01.010196300Z",
     "start_time": "2023-11-19T01:59:00.985673Z"
    }
   }
  },
  {
   "cell_type": "code",
   "execution_count": 31,
   "outputs": [
    {
     "data": {
      "text/plain": "count    2772.000000\nmean        5.754690\nstd         2.344799\nmin         1.000000\n25%         4.000000\n50%         6.000000\n75%         7.000000\nmax        14.000000\nName: F Value, dtype: float64"
     },
     "execution_count": 31,
     "metadata": {},
     "output_type": "execute_result"
    }
   ],
   "source": [
    "# FREQUENCY (not normalized)\n",
    "\n",
    "# create a new col in merged_customer_info w a count of each customer's transactions\n",
    "merged_customer_info['F Value'] = Transactions.groupby('customer_id')['list_price'].count()\n",
    "\n",
    "# descriptive statistics for F Value col\n",
    "merged_customer_info['F Value'].describe()\n",
    "    # max transactions is 14\n",
    "    # min transactions is 1"
   ],
   "metadata": {
    "collapsed": false,
    "ExecuteTime": {
     "end_time": "2023-11-19T02:12:22.307325500Z",
     "start_time": "2023-11-19T02:12:22.265946200Z"
    }
   }
  },
  {
   "cell_type": "code",
   "execution_count": 34,
   "outputs": [
    {
     "data": {
      "text/plain": "count     2772.000000\nmean      6376.600696\nstd       2957.685811\nmin         71.490000\n25%       4213.325000\n50%       6086.660000\n75%       8228.767500\nmax      19071.320000\nName: M Value, dtype: float64"
     },
     "execution_count": 34,
     "metadata": {},
     "output_type": "execute_result"
    }
   ],
   "source": [
    "# MONETARY ( not normalized)\n",
    "\n",
    "# create a col in merged_customer_info w each customer's total purchase amount\n",
    "merged_customer_info['M Value'] = Transactions.groupby('customer_id')['list_price'].sum()\n",
    "\n",
    "# descriptive statistics of the M Value column\n",
    "merged_customer_info[\"M Value\"].describe()\n",
    "\n",
    "    # most a customer spent was $19,071\n",
    "    # min is $71"
   ],
   "metadata": {
    "collapsed": false,
    "ExecuteTime": {
     "end_time": "2023-11-19T19:16:34.232479Z",
     "start_time": "2023-11-19T19:16:34.223834700Z"
    }
   }
  },
  {
   "cell_type": "markdown",
   "source": [
    "RFM Score Calculation"
   ],
   "metadata": {
    "collapsed": false
   }
  },
  {
   "cell_type": "code",
   "execution_count": 35,
   "outputs": [],
   "source": [
    "# RECENCY: Define the number of bins\n",
    "# 5 bins for all RFM this is industry standard\n",
    "\n",
    "num_Rbins = 5\n",
    "\n",
    "# Create quantiles (equal-sized numerical bins) for Recency (R)\n",
    "merged_customer_info[\"R Score\"] = pd.qcut(merged_customer_info['R Value'], q=num_Rbins, labels=False, duplicates='drop') + 1\n",
    "\n",
    "# FREQUENCY: Define the number of bins\n",
    "num_Fbins = 5\n",
    "# Create quantiles (equal-sized numerical bins) for Frequency (F)\n",
    "merged_customer_info[\"F Score\"] = pd.qcut(merged_customer_info[\"F Value\"], q=num_Fbins, labels=False, duplicates='drop') + 1\n",
    "\n",
    "# MONETARY VALUE: Define the number of bins\n",
    "num_Mbins = 5\n",
    "# Create quantiles (equal-sized numerical bins) for Monetary Value (M)\n",
    "merged_customer_info[\"M Score\"] = pd.qcut(merged_customer_info[\"M Value\"], q=num_Mbins, labels=False, duplicates='drop') + 1\n",
    "\n"
   ],
   "metadata": {
    "collapsed": false,
    "ExecuteTime": {
     "end_time": "2023-11-19T19:29:06.820471100Z",
     "start_time": "2023-11-19T19:29:06.785545500Z"
    }
   }
  },
  {
   "cell_type": "markdown",
   "source": [
    "K Means Clustering"
   ],
   "metadata": {
    "collapsed": false
   }
  },
  {
   "cell_type": "code",
   "execution_count": 37,
   "outputs": [],
   "source": [
    "# Extract RFM Scores fo K-means clustering\n",
    "rfm = merged_customer_info[['customer_id','R Score', 'F Score', 'M Score']]\n",
    "\n",
    "# set customer id as the index because we're not using it to cluster\n",
    "rfm.set_index('customer_id', inplace=True)"
   ],
   "metadata": {
    "collapsed": false,
    "ExecuteTime": {
     "end_time": "2023-11-19T19:31:40.117099200Z",
     "start_time": "2023-11-19T19:31:40.071108100Z"
    }
   }
  },
  {
   "cell_type": "code",
   "execution_count": 39,
   "outputs": [
    {
     "name": "stderr",
     "output_type": "stream",
     "text": [
      "C:\\Users\\saman\\AppData\\Local\\Temp\\ipykernel_4100\\4151617466.py:3: SettingWithCopyWarning: \n",
      "A value is trying to be set on a copy of a slice from a DataFrame\n",
      "\n",
      "See the caveats in the documentation: https://pandas.pydata.org/pandas-docs/stable/user_guide/indexing.html#returning-a-view-versus-a-copy\n",
      "  rfm.dropna(inplace=True)\n"
     ]
    }
   ],
   "source": [
    "# Notice there are rows w null values still so drop\n",
    "\n",
    "rfm.dropna(inplace=True)"
   ],
   "metadata": {
    "collapsed": false,
    "ExecuteTime": {
     "end_time": "2023-11-20T04:46:19.791844600Z",
     "start_time": "2023-11-20T04:46:19.750722400Z"
    }
   }
  },
  {
   "cell_type": "code",
   "execution_count": 42,
   "outputs": [
    {
     "name": "stderr",
     "output_type": "stream",
     "text": [
      "C:\\Users\\saman\\PycharmProjects\\SummerPythonLearning\\venv\\Lib\\site-packages\\sklearn\\cluster\\_kmeans.py:1416: FutureWarning: The default value of `n_init` will change from 10 to 'auto' in 1.4. Set the value of `n_init` explicitly to suppress the warning\n",
      "  super()._check_params_vs_input(X, default_n_init=10)\n",
      "C:\\Users\\saman\\PycharmProjects\\SummerPythonLearning\\venv\\Lib\\site-packages\\sklearn\\cluster\\_kmeans.py:1416: FutureWarning: The default value of `n_init` will change from 10 to 'auto' in 1.4. Set the value of `n_init` explicitly to suppress the warning\n",
      "  super()._check_params_vs_input(X, default_n_init=10)\n",
      "C:\\Users\\saman\\PycharmProjects\\SummerPythonLearning\\venv\\Lib\\site-packages\\sklearn\\cluster\\_kmeans.py:1416: FutureWarning: The default value of `n_init` will change from 10 to 'auto' in 1.4. Set the value of `n_init` explicitly to suppress the warning\n",
      "  super()._check_params_vs_input(X, default_n_init=10)\n",
      "C:\\Users\\saman\\PycharmProjects\\SummerPythonLearning\\venv\\Lib\\site-packages\\sklearn\\cluster\\_kmeans.py:1416: FutureWarning: The default value of `n_init` will change from 10 to 'auto' in 1.4. Set the value of `n_init` explicitly to suppress the warning\n",
      "  super()._check_params_vs_input(X, default_n_init=10)\n",
      "C:\\Users\\saman\\PycharmProjects\\SummerPythonLearning\\venv\\Lib\\site-packages\\sklearn\\cluster\\_kmeans.py:1416: FutureWarning: The default value of `n_init` will change from 10 to 'auto' in 1.4. Set the value of `n_init` explicitly to suppress the warning\n",
      "  super()._check_params_vs_input(X, default_n_init=10)\n",
      "C:\\Users\\saman\\PycharmProjects\\SummerPythonLearning\\venv\\Lib\\site-packages\\sklearn\\cluster\\_kmeans.py:1416: FutureWarning: The default value of `n_init` will change from 10 to 'auto' in 1.4. Set the value of `n_init` explicitly to suppress the warning\n",
      "  super()._check_params_vs_input(X, default_n_init=10)\n",
      "C:\\Users\\saman\\PycharmProjects\\SummerPythonLearning\\venv\\Lib\\site-packages\\sklearn\\cluster\\_kmeans.py:1416: FutureWarning: The default value of `n_init` will change from 10 to 'auto' in 1.4. Set the value of `n_init` explicitly to suppress the warning\n",
      "  super()._check_params_vs_input(X, default_n_init=10)\n",
      "C:\\Users\\saman\\PycharmProjects\\SummerPythonLearning\\venv\\Lib\\site-packages\\sklearn\\cluster\\_kmeans.py:1416: FutureWarning: The default value of `n_init` will change from 10 to 'auto' in 1.4. Set the value of `n_init` explicitly to suppress the warning\n",
      "  super()._check_params_vs_input(X, default_n_init=10)\n",
      "C:\\Users\\saman\\PycharmProjects\\SummerPythonLearning\\venv\\Lib\\site-packages\\sklearn\\cluster\\_kmeans.py:1416: FutureWarning: The default value of `n_init` will change from 10 to 'auto' in 1.4. Set the value of `n_init` explicitly to suppress the warning\n",
      "  super()._check_params_vs_input(X, default_n_init=10)\n"
     ]
    },
    {
     "data": {
      "text/plain": "<Figure size 640x480 with 1 Axes>",
      "image/png": "[encoded data removed]"
     },
     "metadata": {},
     "output_type": "display_data"
    }
   ],
   "source": [
    "# Find optimal number of clusters using elbow method\n",
    "\n",
    "fix, ax = plt.subplots(facecolor = \"white\")\n",
    "inertia = []\n",
    "for n_clusters in range (1, 10):\n",
    "    kmeans = KMeans(n_clusters=n_clusters, random_state=0).fit(rfm) # pass in rfm\n",
    "    inertia.append(kmeans.inertia_ / n_clusters)\n",
    "inertias = pd.DataFrame({'n_clusters': range(1, 10), \"inertia\": inertia})\n",
    "ax = inertias.plot(x=\"n_clusters\", y=\"inertia\", ax=ax)\n",
    "plt.xlabel(\"Number of Clusters(k)\")\n",
    "plt.ylabel(\"Averagre Within-Cluster Squared Distances\")\n",
    "plt.ylim({0, 1.1 * inertias.inertia.max()})\n",
    "ax.legend().set_visible(False)\n",
    "ax.patch.set_facecolor(\"white\")\n",
    "plt.show()"
   ],
   "metadata": {
    "collapsed": false,
    "ExecuteTime": {
     "end_time": "2023-11-20T04:52:05.287204400Z",
     "start_time": "2023-11-20T04:52:04.203285Z"
    }
   }
  },
  {
   "cell_type": "code",
   "execution_count": 43,
   "outputs": [
    {
     "name": "stderr",
     "output_type": "stream",
     "text": [
      "C:\\Users\\saman\\PycharmProjects\\SummerPythonLearning\\venv\\Lib\\site-packages\\sklearn\\cluster\\_kmeans.py:1416: FutureWarning: The default value of `n_init` will change from 10 to 'auto' in 1.4. Set the value of `n_init` explicitly to suppress the warning\n",
      "  super()._check_params_vs_input(X, default_n_init=10)\n"
     ]
    },
    {
     "data": {
      "text/plain": "KMeans(n_clusters=4, random_state=0)",
      "text/html": "<style>#sk-container-id-1 {color: black;}#sk-container-id-1 pre{padding: 0;}#sk-container-id-1 div.sk-toggleable {background-color: white;}#sk-container-id-1 label.sk-toggleable__label {cursor: pointer;display: block;width: 100%;margin-bottom: 0;padding: 0.3em;box-sizing: border-box;text-align: center;}#sk-container-id-1 label.sk-toggleable__label-arrow:before {content: \"▸\";float: left;margin-right: 0.25em;color: #696969;}#sk-container-id-1 label.sk-toggleable__label-arrow:hover:before {color: black;}#sk-container-id-1 div.sk-estimator:hover label.sk-toggleable__label-arrow:before {color: black;}#sk-container-id-1 div.sk-toggleable__content {max-height: 0;max-width: 0;overflow: hidden;text-align: left;background-color: #f0f8ff;}#sk-container-id-1 div.sk-toggleable__content pre {margin: 0.2em;color: black;border-radius: 0.25em;background-color: #f0f8ff;}#sk-container-id-1 input.sk-toggleable__control:checked~div.sk-toggleable__content {max-height: 200px;max-width: 100%;overflow: auto;}#sk-container-id-1 input.sk-toggleable__control:checked~label.sk-toggleable__label-arrow:before {content: \"▾\";}#sk-container-id-1 div.sk-estimator input.sk-toggleable__control:checked~label.sk-toggleable__label {background-color: #d4ebff;}#sk-container-id-1 div.sk-label input.sk-toggleable__control:checked~label.sk-toggleable__label {background-color: #d4ebff;}#sk-container-id-1 input.sk-hidden--visually {border: 0;clip: rect(1px 1px 1px 1px);clip: rect(1px, 1px, 1px, 1px);height: 1px;margin: -1px;overflow: hidden;padding: 0;position: absolute;width: 1px;}#sk-container-id-1 div.sk-estimator {font-family: monospace;background-color: #f0f8ff;border: 1px dotted black;border-radius: 0.25em;box-sizing: border-box;margin-bottom: 0.5em;}#sk-container-id-1 div.sk-estimator:hover {background-color: #d4ebff;}#sk-container-id-1 div.sk-parallel-item::after {content: \"\";width: 100%;border-bottom: 1px solid gray;flex-grow: 1;}#sk-container-id-1 div.sk-label:hover label.sk-toggleable__label {background-color: #d4ebff;}#sk-container-id-1 div.sk-serial::before {content: \"\";position: absolute;border-left: 1px solid gray;box-sizing: border-box;top: 0;bottom: 0;left: 50%;z-index: 0;}#sk-container-id-1 div.sk-serial {display: flex;flex-direction: column;align-items: center;background-color: white;padding-right: 0.2em;padding-left: 0.2em;position: relative;}#sk-container-id-1 div.sk-item {position: relative;z-index: 1;}#sk-container-id-1 div.sk-parallel {display: flex;align-items: stretch;justify-content: center;background-color: white;position: relative;}#sk-container-id-1 div.sk-item::before, #sk-container-id-1 div.sk-parallel-item::before {content: \"\";position: absolute;border-left: 1px solid gray;box-sizing: border-box;top: 0;bottom: 0;left: 50%;z-index: -1;}#sk-container-id-1 div.sk-parallel-item {display: flex;flex-direction: column;z-index: 1;position: relative;background-color: white;}#sk-container-id-1 div.sk-parallel-item:first-child::after {align-self: flex-end;width: 50%;}#sk-container-id-1 div.sk-parallel-item:last-child::after {align-self: flex-start;width: 50%;}#sk-container-id-1 div.sk-parallel-item:only-child::after {width: 0;}#sk-container-id-1 div.sk-dashed-wrapped {border: 1px dashed gray;margin: 0 0.4em 0.5em 0.4em;box-sizing: border-box;padding-bottom: 0.4em;background-color: white;}#sk-container-id-1 div.sk-label label {font-family: monospace;font-weight: bold;display: inline-block;line-height: 1.2em;}#sk-container-id-1 div.sk-label-container {text-align: center;}#sk-container-id-1 div.sk-container {/* jupyter's `normalize.less` sets `[hidden] { display: none; }` but bootstrap.min.css set `[hidden] { display: none !important; }` so we also need the `!important` here to be able to override the default hidden behavior on the sphinx rendered scikit-learn.org. See: https://github.com/scikit-learn/scikit-learn/issues/21755 */display: inline-block !important;position: relative;}#sk-container-id-1 div.sk-text-repr-fallback {display: none;}</style><div id=\"sk-container-id-1\" class=\"sk-top-container\"><div class=\"sk-text-repr-fallback\"><pre>KMeans(n_clusters=4, random_state=0)</pre><b>In a Jupyter environment, please rerun this cell to show the HTML representation or trust the notebook. <br />On GitHub, the HTML representation is unable to render, please try loading this page with nbviewer.org.</b></div><div class=\"sk-container\" hidden><div class=\"sk-item\"><div class=\"sk-estimator sk-toggleable\"><input class=\"sk-toggleable__control sk-hidden--visually\" id=\"sk-estimator-id-1\" type=\"checkbox\" checked><label for=\"sk-estimator-id-1\" class=\"sk-toggleable__label sk-toggleable__label-arrow\">KMeans</label><div class=\"sk-toggleable__content\"><pre>KMeans(n_clusters=4, random_state=0)</pre></div></div></div></div></div>"
     },
     "execution_count": 43,
     "metadata": {},
     "output_type": "execute_result"
    }
   ],
   "source": [
    "# Run K-Means Clustering on the rfm df wih 4 clusters\n",
    "\n",
    "kmeans = KMeans(n_clusters=4, random_state=0)\n",
    "kmeans.fit(rfm)"
   ],
   "metadata": {
    "collapsed": false,
    "ExecuteTime": {
     "end_time": "2023-11-20T04:52:45.620698100Z",
     "start_time": "2023-11-20T04:52:45.497908600Z"
    }
   }
  },
  {
   "cell_type": "code",
   "execution_count": 44,
   "outputs": [
    {
     "data": {
      "text/plain": "customer_id\n2     1\n9     3\n12    1\n13    0\n14    1\ndtype: int32"
     },
     "execution_count": 44,
     "metadata": {},
     "output_type": "execute_result"
    }
   ],
   "source": [
    "# setting customers to clusters\n",
    "membership = pd.Series(kmeans.labels_, index=rfm.index)\n",
    "membership.head()\n",
    "\n",
    "# customer 2 is in cluster 1\n"
   ],
   "metadata": {
    "collapsed": false,
    "ExecuteTime": {
     "end_time": "2023-11-20T04:53:59.429905100Z",
     "start_time": "2023-11-20T04:53:59.388927300Z"
    }
   }
  },
  {
   "cell_type": "code",
   "execution_count": 45,
   "outputs": [
    {
     "name": "stdout",
     "output_type": "stream",
     "text": [
      "    R Score   F Score   M Score\n",
      "0  1.938287  1.469773  1.827456\n",
      "1  3.950119  3.880048  4.161520\n",
      "2  1.460457  3.905097  4.131810\n",
      "3  4.500882  1.365079  1.781305\n"
     ]
    },
    {
     "data": {
      "text/plain": "(-0.25, 2.5)"
     },
     "execution_count": 45,
     "metadata": {},
     "output_type": "execute_result"
    },
    {
     "data": {
      "text/plain": "<Figure size 1000x500 with 1 Axes>",
      "image/png": "[encoded data removed]"
     },
     "metadata": {},
     "output_type": "display_data"
    }
   ],
   "source": [
    "# visualize the average Recency (R), Frequency (F), and Monetary (M) scores for different clusters.\n",
    "\n",
    "# Get the centriods out from the kmeans instance\n",
    "\n",
    "centriods = pd.DataFrame(kmeans.cluster_centers_, columns=rfm.columns)\n",
    "print(centriods)\n",
    "\n",
    "centriods[\"cluster\"] = [\"Cluster {}\".format(i) for i in centriods.index]\n",
    "\n",
    "# Plotting cluster centers\n",
    "fig = plt.figure(figsize=(10,5), facecolor=\"white\")\n",
    "fig.subplots_adjust(right=0.95)\n",
    "ax = parallel_coordinates(centriods, class_column=\"cluster\", colormap=\"Set3\", linewidth=5)\n",
    "plt.xlim(-0.25, 2.5)"
   ],
   "metadata": {
    "collapsed": false,
    "ExecuteTime": {
     "end_time": "2023-11-20T04:55:03.022442900Z",
     "start_time": "2023-11-20T04:55:02.864073700Z"
    }
   }
  },
  {
   "cell_type": "code",
   "execution_count": 46,
   "outputs": [
    {
     "data": {
      "text/plain": "<Figure size 900x500 with 3 Axes>",
      "image/png": "[encoded data removed]"
     },
     "metadata": {},
     "output_type": "display_data"
    }
   ],
   "source": [
    "# visualize the average Recency (R), Frequency (F), and Monetary (M) scores for different clusters.\n",
    "\n",
    "# Set the style of the plot\n",
    "sns.set(style=\"whitegrid\")\n",
    "\n",
    "# Create a figure with subplots for R, F, and M scores\n",
    "fig, axes = plt.subplots(3, 1, figsize=(9,5))\n",
    "\n",
    "# Plot average R scores for each cluster\n",
    "sns.barplot(data=centriods, x='cluster', y='R Score', color='#8DD3C7', ax=axes[0])\n",
    "\n",
    "axes[0].set_xlabel('')\n",
    "axes[0].set_ylabel('R Score')\n",
    "axes[0].set_title('Average R Scores by Cluster')\n",
    "\n",
    "# Plot average F scores for each cluster\n",
    "sns.barplot(data=centriods, x='cluster', y='F Score', color='#FB8072', ax=axes[1])\n",
    "\n",
    "axes[1].set_xlabel('')\n",
    "axes[1].set_ylabel('F Score')\n",
    "axes[1].set_title('Average F Scores by Cluster')\n",
    "\n",
    "# Plot average M scores for each cluster\n",
    "sns.barplot(data=centriods, x='cluster', y='M Score', color='#BEBADA', ax=axes[2])\n",
    "\n",
    "axes[2].set_xlabel('Clusters')\n",
    "axes[2].set_ylabel('M Score')\n",
    "axes[2].set_title('Average M Scores by Cluster')\n",
    "\n",
    "# Adjust the layout\n",
    "plt.tight_layout()\n",
    "\n",
    "# Show the plots\n",
    "plt.show()\n"
   ],
   "metadata": {
    "collapsed": false,
    "ExecuteTime": {
     "end_time": "2023-11-20T04:56:13.804387200Z",
     "start_time": "2023-11-20T04:56:13.562945900Z"
    }
   }
  },
  {
   "cell_type": "markdown",
   "source": [
    "Export to CSV file"
   ],
   "metadata": {
    "collapsed": false
   }
  },
  {
   "cell_type": "code",
   "execution_count": 49,
   "outputs": [],
   "source": [
    "# Assign a name to the Series holding cluster membership information\n",
    "membership.name = 'Cluster'\n",
    "\n",
    "# Merge the original data with the Series on 'customer_id'\n",
    "rfm_merged = merged_customer_info.merge(membership, left_on=\"customer_id\", right_index=True)\n",
    "\n"
   ],
   "metadata": {
    "collapsed": false,
    "ExecuteTime": {
     "end_time": "2023-11-20T05:03:14.962067500Z",
     "start_time": "2023-11-20T05:03:14.943039300Z"
    }
   }
  },
  {
   "cell_type": "code",
   "execution_count": 51,
   "outputs": [
    {
     "data": {
      "text/plain": "   customer_id first_name last_name  gender  \\\n1            2        Eli   Bockman    Male   \n2            9       Mala      Lind  Female   \n3           12    Sawyere  Flattman    Male   \n4           13   Gabriele  Norcross    Male   \n5           14   Rayshell  Kitteman  Female   \n\n   past_3_years_bike_related_purchases        DOB  \\\n1                                   81 1980-12-16   \n2                                   97 1973-03-10   \n3                                   58 1994-07-21   \n4                                   38 1955-02-15   \n5                                   85 1983-03-25   \n\n                              job_title job_industry_category  \\\n1                Administrative Officer    Financial Services   \n2  Business Systems Development Analyst           Argiculture   \n3                Nuclear Power Engineer         Manufacturing   \n4                           Developer I    Financial Services   \n5                     Account Executive    Financial Services   \n\n      wealth_segment deceased_indicator  ...    country  property_valuation  \\\n1      Mass Customer                  N  ...  Australia                  10   \n2  Affluent Customer                  N  ...  Australia                  12   \n3      Mass Customer                  N  ...  Australia                   4   \n4     High Net Worth                  N  ...  Australia                   6   \n5  Affluent Customer                  N  ...  Australia                   8   \n\n  age  R Value F Value  M Value  R Score  F Score  M Score  Cluster  \n1  37      129    11.0  9084.45        5      5.0      5.0        1  \n2  44      103     3.0  4149.07        5      1.0      2.0        3  \n3  23      196     8.0  9888.23        5      4.0      5.0        1  \n4  62       17     2.0  1047.72        2      1.0      1.0        0  \n5  34       65     6.0  5903.20        4      3.0      3.0        1  \n\n[5 rows x 25 columns]",
      "text/html": "<div>\n<style scoped>\n    .dataframe tbody tr th:only-of-type {\n        vertical-align: middle;\n    }\n\n    .dataframe tbody tr th {\n        vertical-align: top;\n    }\n\n    .dataframe thead th {\n        text-align: right;\n    }\n</style>\n<table border=\"1\" class=\"dataframe\">\n  <thead>\n    <tr style=\"text-align: right;\">\n      <th></th>\n      <th>customer_id</th>\n      <th>first_name</th>\n      <th>last_name</th>\n      <th>gender</th>\n      <th>past_3_years_bike_related_purchases</th>\n      <th>DOB</th>\n      <th>job_title</th>\n      <th>job_industry_category</th>\n      <th>wealth_segment</th>\n      <th>deceased_indicator</th>\n      <th>...</th>\n      <th>country</th>\n      <th>property_valuation</th>\n      <th>age</th>\n      <th>R Value</th>\n      <th>F Value</th>\n      <th>M Value</th>\n      <th>R Score</th>\n      <th>F Score</th>\n      <th>M Score</th>\n      <th>Cluster</th>\n    </tr>\n  </thead>\n  <tbody>\n    <tr>\n      <th>1</th>\n      <td>2</td>\n      <td>Eli</td>\n      <td>Bockman</td>\n      <td>Male</td>\n      <td>81</td>\n      <td>1980-12-16</td>\n      <td>Administrative Officer</td>\n      <td>Financial Services</td>\n      <td>Mass Customer</td>\n      <td>N</td>\n      <td>...</td>\n      <td>Australia</td>\n      <td>10</td>\n      <td>37</td>\n      <td>129</td>\n      <td>11.0</td>\n      <td>9084.45</td>\n      <td>5</td>\n      <td>5.0</td>\n      <td>5.0</td>\n      <td>1</td>\n    </tr>\n    <tr>\n      <th>2</th>\n      <td>9</td>\n      <td>Mala</td>\n      <td>Lind</td>\n      <td>Female</td>\n      <td>97</td>\n      <td>1973-03-10</td>\n      <td>Business Systems Development Analyst</td>\n      <td>Argiculture</td>\n      <td>Affluent Customer</td>\n      <td>N</td>\n      <td>...</td>\n      <td>Australia</td>\n      <td>12</td>\n      <td>44</td>\n      <td>103</td>\n      <td>3.0</td>\n      <td>4149.07</td>\n      <td>5</td>\n      <td>1.0</td>\n      <td>2.0</td>\n      <td>3</td>\n    </tr>\n    <tr>\n      <th>3</th>\n      <td>12</td>\n      <td>Sawyere</td>\n      <td>Flattman</td>\n      <td>Male</td>\n      <td>58</td>\n      <td>1994-07-21</td>\n      <td>Nuclear Power Engineer</td>\n      <td>Manufacturing</td>\n      <td>Mass Customer</td>\n      <td>N</td>\n      <td>...</td>\n      <td>Australia</td>\n      <td>4</td>\n      <td>23</td>\n      <td>196</td>\n      <td>8.0</td>\n      <td>9888.23</td>\n      <td>5</td>\n      <td>4.0</td>\n      <td>5.0</td>\n      <td>1</td>\n    </tr>\n    <tr>\n      <th>4</th>\n      <td>13</td>\n      <td>Gabriele</td>\n      <td>Norcross</td>\n      <td>Male</td>\n      <td>38</td>\n      <td>1955-02-15</td>\n      <td>Developer I</td>\n      <td>Financial Services</td>\n      <td>High Net Worth</td>\n      <td>N</td>\n      <td>...</td>\n      <td>Australia</td>\n      <td>6</td>\n      <td>62</td>\n      <td>17</td>\n      <td>2.0</td>\n      <td>1047.72</td>\n      <td>2</td>\n      <td>1.0</td>\n      <td>1.0</td>\n      <td>0</td>\n    </tr>\n    <tr>\n      <th>5</th>\n      <td>14</td>\n      <td>Rayshell</td>\n      <td>Kitteman</td>\n      <td>Female</td>\n      <td>85</td>\n      <td>1983-03-25</td>\n      <td>Account Executive</td>\n      <td>Financial Services</td>\n      <td>Affluent Customer</td>\n      <td>N</td>\n      <td>...</td>\n      <td>Australia</td>\n      <td>8</td>\n      <td>34</td>\n      <td>65</td>\n      <td>6.0</td>\n      <td>5903.20</td>\n      <td>4</td>\n      <td>3.0</td>\n      <td>3.0</td>\n      <td>1</td>\n    </tr>\n  </tbody>\n</table>\n<p>5 rows × 25 columns</p>\n</div>"
     },
     "execution_count": 51,
     "metadata": {},
     "output_type": "execute_result"
    }
   ],
   "source": [
    "rfm_merged.head()"
   ],
   "metadata": {
    "collapsed": false,
    "ExecuteTime": {
     "end_time": "2023-11-20T05:05:04.245043Z",
     "start_time": "2023-11-20T05:05:04.220065400Z"
    }
   }
  },
  {
   "cell_type": "code",
   "execution_count": 52,
   "outputs": [],
   "source": [
    "rfm_merged.to_csv('rfm_merged', index=False)"
   ],
   "metadata": {
    "collapsed": false,
    "ExecuteTime": {
     "end_time": "2023-11-20T05:06:59.576823500Z",
     "start_time": "2023-11-20T05:06:59.521714300Z"
    }
   }
  },
  {
   "cell_type": "code",
   "execution_count": null,
   "outputs": [],
   "source": [],
   "metadata": {
    "collapsed": false
   }
  },
  {
   "cell_type": "code",
   "execution_count": null,
   "outputs": [],
   "source": [],
   "metadata": {
    "collapsed": false
   }
  }
 ],
 "metadata": {
  "kernelspec": {
   "display_name": "Python 3",
   "language": "python",
   "name": "python3"
  },
  "language_info": {
   "codemirror_mode": {
    "name": "ipython",
    "version": 2
   },
   "file_extension": ".py",
   "mimetype": "text/x-python",
   "name": "python",
   "nbconvert_exporter": "python",
   "pygments_lexer": "ipython2",
   "version": "2.7.6"
  }
 },
 "nbformat": 4,
 "nbformat_minor": 0
}
